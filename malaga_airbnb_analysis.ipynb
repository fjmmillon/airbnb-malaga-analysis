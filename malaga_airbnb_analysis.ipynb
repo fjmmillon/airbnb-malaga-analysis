{
 "cells": [
  {
   "cell_type": "markdown",
   "metadata": {
    "tags": []
   },
   "source": [
    "# Exploration of Airbnb data from Malaga"
   ]
  },
  {
   "cell_type": "markdown",
   "metadata": {},
   "source": [
    "Data from [Inside Airbnb](http://insideairbnb.com/)"
   ]
  },
  {
   "cell_type": "markdown",
   "metadata": {},
   "source": [
    "Importing necessary libraries:"
   ]
  },
  {
   "cell_type": "code",
   "execution_count": 1,
   "metadata": {
    "id": "SFrUqWSsngWY"
   },
   "outputs": [],
   "source": [
    "import numpy as np\n",
    "import pandas as pd\n",
    "import matplotlib.pyplot as plt\n",
    "import seaborn as sns\n",
    "import os"
   ]
  },
  {
   "cell_type": "markdown",
   "metadata": {},
   "source": [
    "Reading the data. In this case I have used already downloaded files to avoid unnecessary downloads. Uncomment for taking it directly from the web"
   ]
  },
  {
   "cell_type": "code",
   "execution_count": 3,
   "metadata": {
    "id": "mc8MZyEi_uno"
   },
   "outputs": [],
   "source": [
    "#listing = pd.read_csv('http://data.insideairbnb.com/spain/andaluc%C3%ADa/malaga/2022-09-28/data/listings.csv.gz')\n",
    "#calendar= pd.read_csv('http://data.insideairbnb.com/spain/andaluc%C3%ADa/malaga/2022-09-28/data/calendar.csv.gz')\n",
    "#reviews=pd.read_csv('http://data.insideairbnb.com/spain/andaluc%C3%ADa/malaga/2022-09-28/data/reviews.csv.gz')\n",
    "#neighbourhoods= pd.read_csv(\"http://data.insideairbnb.com/spain/andaluc%C3%ADa/malaga/2022-09-28/visualisations/neighbourhoods.csv\")"
   ]
  },
  {
   "cell_type": "code",
   "execution_count": null,
   "metadata": {},
   "outputs": [],
   "source": [
    "wd = os.getcwd()+\"/\"\n",
    "listing =pd.read_csv(wd+\"listings.csv.gz\")\n",
    "calendar= pd.read_csv(wd+\"calendar.csv.gz\")\n",
    "reviews=pd.read_csv(wd+\"reviews.csv.gz\")\n",
    "neighbourhoods= pd.read_csv(wd+\"neighbourhoods.csv\")"
   ]
  },
  {
   "cell_type": "markdown",
   "metadata": {},
   "source": [
    "Let's explore all the dataframes created"
   ]
  },
  {
   "cell_type": "code",
   "execution_count": 4,
   "metadata": {
    "colab": {
     "base_uri": "https://localhost:8080/"
    },
    "id": "2rH69_1XBHfe",
    "outputId": "be0d24d1-a4e1-4f41-cada-dc34b70b798b"
   },
   "outputs": [
    {
     "name": "stdout",
     "output_type": "stream",
     "text": [
      "<class 'pandas.core.frame.DataFrame'>\n",
      "RangeIndex: 8481 entries, 0 to 8480\n",
      "Data columns (total 75 columns):\n",
      " #   Column                                        Non-Null Count  Dtype  \n",
      "---  ------                                        --------------  -----  \n",
      " 0   id                                            8481 non-null   int64  \n",
      " 1   listing_url                                   8481 non-null   object \n",
      " 2   scrape_id                                     8481 non-null   int64  \n",
      " 3   last_scraped                                  8481 non-null   object \n",
      " 4   source                                        8481 non-null   object \n",
      " 5   name                                          8481 non-null   object \n",
      " 6   description                                   8468 non-null   object \n",
      " 7   neighborhood_overview                         4401 non-null   object \n",
      " 8   picture_url                                   8481 non-null   object \n",
      " 9   host_id                                       8481 non-null   int64  \n",
      " 10  host_url                                      8481 non-null   object \n",
      " 11  host_name                                     8481 non-null   object \n",
      " 12  host_since                                    8481 non-null   object \n",
      " 13  host_location                                 6614 non-null   object \n",
      " 14  host_about                                    4941 non-null   object \n",
      " 15  host_response_time                            7764 non-null   object \n",
      " 16  host_response_rate                            7764 non-null   object \n",
      " 17  host_acceptance_rate                          7995 non-null   object \n",
      " 18  host_is_superhost                             8481 non-null   object \n",
      " 19  host_thumbnail_url                            8481 non-null   object \n",
      " 20  host_picture_url                              8481 non-null   object \n",
      " 21  host_neighbourhood                            696 non-null    object \n",
      " 22  host_listings_count                           8481 non-null   int64  \n",
      " 23  host_total_listings_count                     8481 non-null   int64  \n",
      " 24  host_verifications                            8481 non-null   object \n",
      " 25  host_has_profile_pic                          8481 non-null   object \n",
      " 26  host_identity_verified                        8481 non-null   object \n",
      " 27  neighbourhood                                 4401 non-null   object \n",
      " 28  neighbourhood_cleansed                        8481 non-null   object \n",
      " 29  neighbourhood_group_cleansed                  0 non-null      float64\n",
      " 30  latitude                                      8481 non-null   float64\n",
      " 31  longitude                                     8481 non-null   float64\n",
      " 32  property_type                                 8481 non-null   object \n",
      " 33  room_type                                     8481 non-null   object \n",
      " 34  accommodates                                  8481 non-null   int64  \n",
      " 35  bathrooms                                     0 non-null      float64\n",
      " 36  bathrooms_text                                8480 non-null   object \n",
      " 37  bedrooms                                      7448 non-null   float64\n",
      " 38  beds                                          8441 non-null   float64\n",
      " 39  amenities                                     8481 non-null   object \n",
      " 40  price                                         8481 non-null   object \n",
      " 41  minimum_nights                                8481 non-null   int64  \n",
      " 42  maximum_nights                                8481 non-null   int64  \n",
      " 43  minimum_minimum_nights                        8481 non-null   int64  \n",
      " 44  maximum_minimum_nights                        8481 non-null   int64  \n",
      " 45  minimum_maximum_nights                        8481 non-null   int64  \n",
      " 46  maximum_maximum_nights                        8481 non-null   int64  \n",
      " 47  minimum_nights_avg_ntm                        8481 non-null   float64\n",
      " 48  maximum_nights_avg_ntm                        8481 non-null   float64\n",
      " 49  calendar_updated                              0 non-null      float64\n",
      " 50  has_availability                              8481 non-null   object \n",
      " 51  availability_30                               8481 non-null   int64  \n",
      " 52  availability_60                               8481 non-null   int64  \n",
      " 53  availability_90                               8481 non-null   int64  \n",
      " 54  availability_365                              8481 non-null   int64  \n",
      " 55  calendar_last_scraped                         8481 non-null   object \n",
      " 56  number_of_reviews                             8481 non-null   int64  \n",
      " 57  number_of_reviews_ltm                         8481 non-null   int64  \n",
      " 58  number_of_reviews_l30d                        8481 non-null   int64  \n",
      " 59  first_review                                  7264 non-null   object \n",
      " 60  last_review                                   7264 non-null   object \n",
      " 61  review_scores_rating                          7264 non-null   float64\n",
      " 62  review_scores_accuracy                        7257 non-null   float64\n",
      " 63  review_scores_cleanliness                     7257 non-null   float64\n",
      " 64  review_scores_checkin                         7257 non-null   float64\n",
      " 65  review_scores_communication                   7257 non-null   float64\n",
      " 66  review_scores_location                        7257 non-null   float64\n",
      " 67  review_scores_value                           7257 non-null   float64\n",
      " 68  license                                       8310 non-null   object \n",
      " 69  instant_bookable                              8481 non-null   object \n",
      " 70  calculated_host_listings_count                8481 non-null   int64  \n",
      " 71  calculated_host_listings_count_entire_homes   8481 non-null   int64  \n",
      " 72  calculated_host_listings_count_private_rooms  8481 non-null   int64  \n",
      " 73  calculated_host_listings_count_shared_rooms   8481 non-null   int64  \n",
      " 74  reviews_per_month                             7264 non-null   float64\n",
      "dtypes: float64(17), int64(23), object(35)\n",
      "memory usage: 4.9+ MB\n"
     ]
    }
   ],
   "source": [
    "listing.info()"
   ]
  },
  {
   "cell_type": "markdown",
   "metadata": {},
   "source": [
    "And it's firts rows:"
   ]
  },
  {
   "cell_type": "code",
   "execution_count": 64,
   "metadata": {},
   "outputs": [
    {
     "data": {
      "text/html": [
       "<div>\n",
       "<style scoped>\n",
       "    .dataframe tbody tr th:only-of-type {\n",
       "        vertical-align: middle;\n",
       "    }\n",
       "\n",
       "    .dataframe tbody tr th {\n",
       "        vertical-align: top;\n",
       "    }\n",
       "\n",
       "    .dataframe thead th {\n",
       "        text-align: right;\n",
       "    }\n",
       "</style>\n",
       "<table border=\"1\" class=\"dataframe\">\n",
       "  <thead>\n",
       "    <tr style=\"text-align: right;\">\n",
       "      <th></th>\n",
       "      <th>id</th>\n",
       "      <th>listing_url</th>\n",
       "      <th>scrape_id</th>\n",
       "      <th>last_scraped</th>\n",
       "      <th>source</th>\n",
       "      <th>name</th>\n",
       "      <th>description</th>\n",
       "      <th>neighborhood_overview</th>\n",
       "      <th>picture_url</th>\n",
       "      <th>host_id</th>\n",
       "      <th>...</th>\n",
       "      <th>review_scores_value</th>\n",
       "      <th>license</th>\n",
       "      <th>instant_bookable</th>\n",
       "      <th>calculated_host_listings_count</th>\n",
       "      <th>calculated_host_listings_count_entire_homes</th>\n",
       "      <th>calculated_host_listings_count_private_rooms</th>\n",
       "      <th>calculated_host_listings_count_shared_rooms</th>\n",
       "      <th>reviews_per_month</th>\n",
       "      <th>nb_bathrooms</th>\n",
       "      <th>bathroom_is_shared</th>\n",
       "    </tr>\n",
       "  </thead>\n",
       "  <tbody>\n",
       "    <tr>\n",
       "      <th>0</th>\n",
       "      <td>96033</td>\n",
       "      <td>https://www.airbnb.com/rooms/96033</td>\n",
       "      <td>20220928234716</td>\n",
       "      <td>2022-09-29</td>\n",
       "      <td>city scrape</td>\n",
       "      <td>* Cosy flat 200m from the beach, El Palo/Malaga *</td>\n",
       "      <td>Bonito piso de 2 dormitorios a 200m de la play...</td>\n",
       "      <td>A 200 metros de las playas de El Palo, antiguo...</td>\n",
       "      <td>https://a0.muscache.com/pictures/32780788/e487...</td>\n",
       "      <td>510467</td>\n",
       "      <td>...</td>\n",
       "      <td>4.61</td>\n",
       "      <td>VFT/MA/22043</td>\n",
       "      <td>f</td>\n",
       "      <td>1</td>\n",
       "      <td>1</td>\n",
       "      <td>0</td>\n",
       "      <td>0</td>\n",
       "      <td>1.41</td>\n",
       "      <td>1.0</td>\n",
       "      <td>False</td>\n",
       "    </tr>\n",
       "    <tr>\n",
       "      <th>1</th>\n",
       "      <td>166473</td>\n",
       "      <td>https://www.airbnb.com/rooms/166473</td>\n",
       "      <td>20220928234716</td>\n",
       "      <td>2022-09-29</td>\n",
       "      <td>city scrape</td>\n",
       "      <td>Perfect Location In Malaga</td>\n",
       "      <td>This apartment is rented out by the room - new...</td>\n",
       "      <td>NaN</td>\n",
       "      <td>https://a0.muscache.com/pictures/miso/Hosting-...</td>\n",
       "      <td>793360</td>\n",
       "      <td>...</td>\n",
       "      <td>4.67</td>\n",
       "      <td>CTC/2018118027</td>\n",
       "      <td>f</td>\n",
       "      <td>4</td>\n",
       "      <td>0</td>\n",
       "      <td>4</td>\n",
       "      <td>0</td>\n",
       "      <td>0.63</td>\n",
       "      <td>2.0</td>\n",
       "      <td>True</td>\n",
       "    </tr>\n",
       "    <tr>\n",
       "      <th>2</th>\n",
       "      <td>212845</td>\n",
       "      <td>https://www.airbnb.com/rooms/212845</td>\n",
       "      <td>20220928234716</td>\n",
       "      <td>2022-09-29</td>\n",
       "      <td>city scrape</td>\n",
       "      <td>BEAUTIFUL DOUBLE ROOM IN MALAGA</td>\n",
       "      <td>Beautifull double room with  toilet, in Malaga...</td>\n",
       "      <td>NaN</td>\n",
       "      <td>https://a0.muscache.com/pictures/d4a19330-03c4...</td>\n",
       "      <td>617998</td>\n",
       "      <td>...</td>\n",
       "      <td>4.74</td>\n",
       "      <td>VFT/MA/09354</td>\n",
       "      <td>f</td>\n",
       "      <td>2</td>\n",
       "      <td>0</td>\n",
       "      <td>1</td>\n",
       "      <td>1</td>\n",
       "      <td>0.31</td>\n",
       "      <td>1.5</td>\n",
       "      <td>True</td>\n",
       "    </tr>\n",
       "    <tr>\n",
       "      <th>3</th>\n",
       "      <td>229511</td>\n",
       "      <td>https://www.airbnb.com/rooms/229511</td>\n",
       "      <td>20220928234716</td>\n",
       "      <td>2022-09-29</td>\n",
       "      <td>city scrape</td>\n",
       "      <td>MOUNTAIN VILLA WITH SEAVIEWS - PRIVATE POOL</td>\n",
       "      <td>Country house in rural Provencal style.&lt;br /&gt;&lt;...</td>\n",
       "      <td>Country house next to Natural park, just  25 m...</td>\n",
       "      <td>https://a0.muscache.com/pictures/2102051/2743a...</td>\n",
       "      <td>1198693</td>\n",
       "      <td>...</td>\n",
       "      <td>5.00</td>\n",
       "      <td>VFT/ MA/22170</td>\n",
       "      <td>f</td>\n",
       "      <td>2</td>\n",
       "      <td>2</td>\n",
       "      <td>0</td>\n",
       "      <td>0</td>\n",
       "      <td>0.06</td>\n",
       "      <td>2.0</td>\n",
       "      <td>False</td>\n",
       "    </tr>\n",
       "    <tr>\n",
       "      <th>4</th>\n",
       "      <td>330760</td>\n",
       "      <td>https://www.airbnb.com/rooms/330760</td>\n",
       "      <td>20220928234716</td>\n",
       "      <td>2022-09-29</td>\n",
       "      <td>city scrape</td>\n",
       "      <td>Malaga Lodge Guesthouse Double room-shared bath.</td>\n",
       "      <td>The Lodge is set in a charming town house in L...</td>\n",
       "      <td>Málaga Lodge is situated next to the famous Sa...</td>\n",
       "      <td>https://a0.muscache.com/pictures/85419390/38a9...</td>\n",
       "      <td>1687526</td>\n",
       "      <td>...</td>\n",
       "      <td>4.50</td>\n",
       "      <td>VFT/MA/12240</td>\n",
       "      <td>t</td>\n",
       "      <td>3</td>\n",
       "      <td>1</td>\n",
       "      <td>2</td>\n",
       "      <td>0</td>\n",
       "      <td>0.36</td>\n",
       "      <td>1.5</td>\n",
       "      <td>True</td>\n",
       "    </tr>\n",
       "  </tbody>\n",
       "</table>\n",
       "<p>5 rows × 77 columns</p>\n",
       "</div>"
      ],
      "text/plain": [
       "       id                          listing_url       scrape_id last_scraped  \\\n",
       "0   96033   https://www.airbnb.com/rooms/96033  20220928234716   2022-09-29   \n",
       "1  166473  https://www.airbnb.com/rooms/166473  20220928234716   2022-09-29   \n",
       "2  212845  https://www.airbnb.com/rooms/212845  20220928234716   2022-09-29   \n",
       "3  229511  https://www.airbnb.com/rooms/229511  20220928234716   2022-09-29   \n",
       "4  330760  https://www.airbnb.com/rooms/330760  20220928234716   2022-09-29   \n",
       "\n",
       "        source                                               name  \\\n",
       "0  city scrape  * Cosy flat 200m from the beach, El Palo/Malaga *   \n",
       "1  city scrape                         Perfect Location In Malaga   \n",
       "2  city scrape                    BEAUTIFUL DOUBLE ROOM IN MALAGA   \n",
       "3  city scrape        MOUNTAIN VILLA WITH SEAVIEWS - PRIVATE POOL   \n",
       "4  city scrape   Malaga Lodge Guesthouse Double room-shared bath.   \n",
       "\n",
       "                                         description  \\\n",
       "0  Bonito piso de 2 dormitorios a 200m de la play...   \n",
       "1  This apartment is rented out by the room - new...   \n",
       "2  Beautifull double room with  toilet, in Malaga...   \n",
       "3  Country house in rural Provencal style.<br /><...   \n",
       "4  The Lodge is set in a charming town house in L...   \n",
       "\n",
       "                               neighborhood_overview  \\\n",
       "0  A 200 metros de las playas de El Palo, antiguo...   \n",
       "1                                                NaN   \n",
       "2                                                NaN   \n",
       "3  Country house next to Natural park, just  25 m...   \n",
       "4  Málaga Lodge is situated next to the famous Sa...   \n",
       "\n",
       "                                         picture_url  host_id  ...  \\\n",
       "0  https://a0.muscache.com/pictures/32780788/e487...   510467  ...   \n",
       "1  https://a0.muscache.com/pictures/miso/Hosting-...   793360  ...   \n",
       "2  https://a0.muscache.com/pictures/d4a19330-03c4...   617998  ...   \n",
       "3  https://a0.muscache.com/pictures/2102051/2743a...  1198693  ...   \n",
       "4  https://a0.muscache.com/pictures/85419390/38a9...  1687526  ...   \n",
       "\n",
       "  review_scores_value         license instant_bookable  \\\n",
       "0                4.61    VFT/MA/22043                f   \n",
       "1                4.67  CTC/2018118027                f   \n",
       "2                4.74    VFT/MA/09354                f   \n",
       "3                5.00   VFT/ MA/22170                f   \n",
       "4                4.50    VFT/MA/12240                t   \n",
       "\n",
       "  calculated_host_listings_count calculated_host_listings_count_entire_homes  \\\n",
       "0                              1                                           1   \n",
       "1                              4                                           0   \n",
       "2                              2                                           0   \n",
       "3                              2                                           2   \n",
       "4                              3                                           1   \n",
       "\n",
       "  calculated_host_listings_count_private_rooms  \\\n",
       "0                                            0   \n",
       "1                                            4   \n",
       "2                                            1   \n",
       "3                                            0   \n",
       "4                                            2   \n",
       "\n",
       "  calculated_host_listings_count_shared_rooms reviews_per_month nb_bathrooms  \\\n",
       "0                                           0              1.41          1.0   \n",
       "1                                           0              0.63          2.0   \n",
       "2                                           1              0.31          1.5   \n",
       "3                                           0              0.06          2.0   \n",
       "4                                           0              0.36          1.5   \n",
       "\n",
       "  bathroom_is_shared  \n",
       "0              False  \n",
       "1               True  \n",
       "2               True  \n",
       "3              False  \n",
       "4               True  \n",
       "\n",
       "[5 rows x 77 columns]"
      ]
     },
     "execution_count": 64,
     "metadata": {},
     "output_type": "execute_result"
    }
   ],
   "source": [
    "listing.head()"
   ]
  },
  {
   "cell_type": "markdown",
   "metadata": {},
   "source": [
    "*\"neighbourhood_group_cleansed\"*, *\"bathrooms\"* and *\"calendar_updated\"* are all-null-series, so no information can be extracted from there."
   ]
  },
  {
   "cell_type": "markdown",
   "metadata": {},
   "source": [
    "Let's explore now the calendar dataframe:"
   ]
  },
  {
   "cell_type": "code",
   "execution_count": 5,
   "metadata": {
    "colab": {
     "base_uri": "https://localhost:8080/"
    },
    "id": "_mRjisWjBKBW",
    "outputId": "d7eaa1a0-191a-4144-ccb6-4506685e9817"
   },
   "outputs": [
    {
     "name": "stdout",
     "output_type": "stream",
     "text": [
      "<class 'pandas.core.frame.DataFrame'>\n",
      "RangeIndex: 3095565 entries, 0 to 3095564\n",
      "Data columns (total 7 columns):\n",
      " #   Column          Dtype \n",
      "---  ------          ----- \n",
      " 0   listing_id      int64 \n",
      " 1   date            object\n",
      " 2   available       object\n",
      " 3   price           object\n",
      " 4   adjusted_price  object\n",
      " 5   minimum_nights  int64 \n",
      " 6   maximum_nights  int64 \n",
      "dtypes: int64(3), object(4)\n",
      "memory usage: 165.3+ MB\n"
     ]
    }
   ],
   "source": [
    "calendar.info()"
   ]
  },
  {
   "cell_type": "markdown",
   "metadata": {},
   "source": [
    "And reviews:"
   ]
  },
  {
   "cell_type": "code",
   "execution_count": 6,
   "metadata": {
    "colab": {
     "base_uri": "https://localhost:8080/"
    },
    "id": "vw4n_N8uBi-F",
    "outputId": "c144ce53-dfdd-4ab1-e521-8b8f0cd0fe73"
   },
   "outputs": [
    {
     "name": "stdout",
     "output_type": "stream",
     "text": [
      "<class 'pandas.core.frame.DataFrame'>\n",
      "RangeIndex: 283187 entries, 0 to 283186\n",
      "Data columns (total 6 columns):\n",
      " #   Column         Non-Null Count   Dtype \n",
      "---  ------         --------------   ----- \n",
      " 0   listing_id     283187 non-null  int64 \n",
      " 1   id             283187 non-null  int64 \n",
      " 2   date           283187 non-null  object\n",
      " 3   reviewer_id    283187 non-null  int64 \n",
      " 4   reviewer_name  283187 non-null  object\n",
      " 5   comments       283179 non-null  object\n",
      "dtypes: int64(3), object(3)\n",
      "memory usage: 13.0+ MB\n"
     ]
    }
   ],
   "source": [
    "reviews.info()"
   ]
  },
  {
   "cell_type": "code",
   "execution_count": 7,
   "metadata": {
    "colab": {
     "base_uri": "https://localhost:8080/",
     "height": 337
    },
    "id": "F3ENU6n8CjsY",
    "outputId": "db8b2474-f065-4909-d194-39e22ccf51fa"
   },
   "outputs": [
    {
     "data": {
      "text/html": [
       "<div>\n",
       "<style scoped>\n",
       "    .dataframe tbody tr th:only-of-type {\n",
       "        vertical-align: middle;\n",
       "    }\n",
       "\n",
       "    .dataframe tbody tr th {\n",
       "        vertical-align: top;\n",
       "    }\n",
       "\n",
       "    .dataframe thead th {\n",
       "        text-align: right;\n",
       "    }\n",
       "</style>\n",
       "<table border=\"1\" class=\"dataframe\">\n",
       "  <thead>\n",
       "    <tr style=\"text-align: right;\">\n",
       "      <th></th>\n",
       "      <th>listing_id</th>\n",
       "      <th>id</th>\n",
       "      <th>date</th>\n",
       "      <th>reviewer_id</th>\n",
       "      <th>reviewer_name</th>\n",
       "      <th>comments</th>\n",
       "    </tr>\n",
       "  </thead>\n",
       "  <tbody>\n",
       "    <tr>\n",
       "      <th>0</th>\n",
       "      <td>96033</td>\n",
       "      <td>8152056</td>\n",
       "      <td>2013-10-18</td>\n",
       "      <td>366364</td>\n",
       "      <td>Vera</td>\n",
       "      <td>My stay at the apartment of Adriana and Rafa w...</td>\n",
       "    </tr>\n",
       "    <tr>\n",
       "      <th>1</th>\n",
       "      <td>96033</td>\n",
       "      <td>8689156</td>\n",
       "      <td>2013-11-12</td>\n",
       "      <td>4862098</td>\n",
       "      <td>Sarah</td>\n",
       "      <td>The flat was perfect for our holiday in Malaga...</td>\n",
       "    </tr>\n",
       "    <tr>\n",
       "      <th>2</th>\n",
       "      <td>96033</td>\n",
       "      <td>11275860</td>\n",
       "      <td>2014-03-27</td>\n",
       "      <td>12189558</td>\n",
       "      <td>Andrea</td>\n",
       "      <td>The reservation was canceled 8 days before arr...</td>\n",
       "    </tr>\n",
       "    <tr>\n",
       "      <th>3</th>\n",
       "      <td>96033</td>\n",
       "      <td>11862773</td>\n",
       "      <td>2014-04-17</td>\n",
       "      <td>2236416</td>\n",
       "      <td>Galina</td>\n",
       "      <td>El piso esta muy lindo y comido :) No había in...</td>\n",
       "    </tr>\n",
       "    <tr>\n",
       "      <th>4</th>\n",
       "      <td>96033</td>\n",
       "      <td>12689717</td>\n",
       "      <td>2014-05-08</td>\n",
       "      <td>13440727</td>\n",
       "      <td>Patricia</td>\n",
       "      <td>We had some trouble finding the appartment at ...</td>\n",
       "    </tr>\n",
       "  </tbody>\n",
       "</table>\n",
       "</div>"
      ],
      "text/plain": [
       "   listing_id        id        date  reviewer_id reviewer_name  \\\n",
       "0       96033   8152056  2013-10-18       366364          Vera   \n",
       "1       96033   8689156  2013-11-12      4862098         Sarah   \n",
       "2       96033  11275860  2014-03-27     12189558        Andrea   \n",
       "3       96033  11862773  2014-04-17      2236416        Galina   \n",
       "4       96033  12689717  2014-05-08     13440727      Patricia   \n",
       "\n",
       "                                            comments  \n",
       "0  My stay at the apartment of Adriana and Rafa w...  \n",
       "1  The flat was perfect for our holiday in Malaga...  \n",
       "2  The reservation was canceled 8 days before arr...  \n",
       "3  El piso esta muy lindo y comido :) No había in...  \n",
       "4  We had some trouble finding the appartment at ...  "
      ]
     },
     "execution_count": 7,
     "metadata": {},
     "output_type": "execute_result"
    }
   ],
   "source": [
    "reviews.head()"
   ]
  },
  {
   "cell_type": "markdown",
   "metadata": {},
   "source": [
    "The neighbourhoods dataframe:"
   ]
  },
  {
   "cell_type": "code",
   "execution_count": 8,
   "metadata": {
    "colab": {
     "base_uri": "https://localhost:8080/",
     "height": 206
    },
    "id": "ENcAo2trCnP8",
    "outputId": "d9ecd36e-5b37-441e-c8d2-43a3b9f390f4"
   },
   "outputs": [
    {
     "data": {
      "text/html": [
       "<div>\n",
       "<style scoped>\n",
       "    .dataframe tbody tr th:only-of-type {\n",
       "        vertical-align: middle;\n",
       "    }\n",
       "\n",
       "    .dataframe tbody tr th {\n",
       "        vertical-align: top;\n",
       "    }\n",
       "\n",
       "    .dataframe thead th {\n",
       "        text-align: right;\n",
       "    }\n",
       "</style>\n",
       "<table border=\"1\" class=\"dataframe\">\n",
       "  <thead>\n",
       "    <tr style=\"text-align: right;\">\n",
       "      <th></th>\n",
       "      <th>neighbourhood_group</th>\n",
       "      <th>neighbourhood</th>\n",
       "    </tr>\n",
       "  </thead>\n",
       "  <tbody>\n",
       "    <tr>\n",
       "      <th>0</th>\n",
       "      <td>NaN</td>\n",
       "      <td>Bailen-Miraflores</td>\n",
       "    </tr>\n",
       "    <tr>\n",
       "      <th>1</th>\n",
       "      <td>NaN</td>\n",
       "      <td>Campanillas</td>\n",
       "    </tr>\n",
       "    <tr>\n",
       "      <th>2</th>\n",
       "      <td>NaN</td>\n",
       "      <td>Carretera de Cadiz</td>\n",
       "    </tr>\n",
       "    <tr>\n",
       "      <th>3</th>\n",
       "      <td>NaN</td>\n",
       "      <td>Centro</td>\n",
       "    </tr>\n",
       "    <tr>\n",
       "      <th>4</th>\n",
       "      <td>NaN</td>\n",
       "      <td>Churriana</td>\n",
       "    </tr>\n",
       "  </tbody>\n",
       "</table>\n",
       "</div>"
      ],
      "text/plain": [
       "   neighbourhood_group       neighbourhood\n",
       "0                  NaN   Bailen-Miraflores\n",
       "1                  NaN         Campanillas\n",
       "2                  NaN  Carretera de Cadiz\n",
       "3                  NaN              Centro\n",
       "4                  NaN           Churriana"
      ]
     },
     "execution_count": 8,
     "metadata": {},
     "output_type": "execute_result"
    }
   ],
   "source": [
    "neighbourhoods.head()"
   ]
  },
  {
   "cell_type": "code",
   "execution_count": 9,
   "metadata": {
    "colab": {
     "base_uri": "https://localhost:8080/"
    },
    "id": "ISQXkU_gC_rG",
    "outputId": "0e65ece3-5916-49a1-cc82-00d43501673e"
   },
   "outputs": [
    {
     "name": "stdout",
     "output_type": "stream",
     "text": [
      "<class 'pandas.core.frame.DataFrame'>\n",
      "RangeIndex: 11 entries, 0 to 10\n",
      "Data columns (total 2 columns):\n",
      " #   Column               Non-Null Count  Dtype  \n",
      "---  ------               --------------  -----  \n",
      " 0   neighbourhood_group  0 non-null      float64\n",
      " 1   neighbourhood        11 non-null     object \n",
      "dtypes: float64(1), object(1)\n",
      "memory usage: 304.0+ bytes\n"
     ]
    }
   ],
   "source": [
    "neighbourhoods.info()"
   ]
  },
  {
   "cell_type": "markdown",
   "metadata": {},
   "source": [
    "This last one does not add a much information."
   ]
  },
  {
   "cell_type": "markdown",
   "metadata": {},
   "source": [
    "Now, let's work in the first dataframe, listings. The bathrooms series is all-null and it could be a good source of information in order to determine the quality of a place. Maybe we can extract the information from other series:"
   ]
  },
  {
   "cell_type": "code",
   "execution_count": 10,
   "metadata": {
    "colab": {
     "base_uri": "https://localhost:8080/"
    },
    "id": "cLcYAUnCDFcn",
    "outputId": "d549e2ba-52c2-405d-8665-4c1e257b3ded"
   },
   "outputs": [
    {
     "data": {
      "text/plain": [
       "0                 1 bath\n",
       "1         2 shared baths\n",
       "2       1.5 shared baths\n",
       "3                2 baths\n",
       "4       1.5 shared baths\n",
       "              ...       \n",
       "8476             2 baths\n",
       "8477              1 bath\n",
       "8478              1 bath\n",
       "8479              1 bath\n",
       "8480             3 baths\n",
       "Name: bathrooms_text, Length: 8481, dtype: object"
      ]
     },
     "execution_count": 10,
     "metadata": {},
     "output_type": "execute_result"
    }
   ],
   "source": [
    "listing[\"bathrooms_text\"]"
   ]
  },
  {
   "cell_type": "code",
   "execution_count": 11,
   "metadata": {
    "colab": {
     "base_uri": "https://localhost:8080/"
    },
    "id": "n8wLfj51FZky",
    "outputId": "5759f890-a114-49c3-b8d2-98ee3bb09856"
   },
   "outputs": [
    {
     "data": {
      "text/plain": [
       "0      NaN\n",
       "1      NaN\n",
       "2      NaN\n",
       "3      NaN\n",
       "4      NaN\n",
       "        ..\n",
       "8476   NaN\n",
       "8477   NaN\n",
       "8478   NaN\n",
       "8479   NaN\n",
       "8480   NaN\n",
       "Name: bathrooms, Length: 8481, dtype: float64"
      ]
     },
     "execution_count": 11,
     "metadata": {},
     "output_type": "execute_result"
    }
   ],
   "source": [
    "listing[\"bathrooms\"]"
   ]
  },
  {
   "cell_type": "code",
   "execution_count": null,
   "metadata": {
    "id": "TTGd29Y9wCYB"
   },
   "outputs": [],
   "source": []
  },
  {
   "cell_type": "code",
   "execution_count": null,
   "metadata": {
    "id": "JHNFbQozv8vd"
   },
   "outputs": [],
   "source": []
  },
  {
   "cell_type": "code",
   "execution_count": 12,
   "metadata": {
    "colab": {
     "base_uri": "https://localhost:8080/"
    },
    "id": "_e-7c4eXF0Tr",
    "outputId": "64f1625e-e877-4828-cb01-7b43f21d2b4e"
   },
   "outputs": [
    {
     "data": {
      "text/plain": [
       "0        $54.00\n",
       "1        $21.00\n",
       "2        $39.00\n",
       "3       $191.00\n",
       "4        $48.00\n",
       "         ...   \n",
       "8476    $265.00\n",
       "8477     $31.00\n",
       "8478     $90.00\n",
       "8479    $112.00\n",
       "8480    $125.00\n",
       "Name: price, Length: 8481, dtype: object"
      ]
     },
     "execution_count": 12,
     "metadata": {},
     "output_type": "execute_result"
    }
   ],
   "source": [
    "listing[\"price\"]"
   ]
  },
  {
   "cell_type": "code",
   "execution_count": 13,
   "metadata": {
    "colab": {
     "base_uri": "https://localhost:8080/",
     "height": 270
    },
    "id": "iof8LV4DGDHf",
    "outputId": "290a37cf-294a-453d-e7c5-ef5d8ce7f9a6"
   },
   "outputs": [
    {
     "data": {
      "text/html": [
       "<div>\n",
       "<style scoped>\n",
       "    .dataframe tbody tr th:only-of-type {\n",
       "        vertical-align: middle;\n",
       "    }\n",
       "\n",
       "    .dataframe tbody tr th {\n",
       "        vertical-align: top;\n",
       "    }\n",
       "\n",
       "    .dataframe thead th {\n",
       "        text-align: right;\n",
       "    }\n",
       "</style>\n",
       "<table border=\"1\" class=\"dataframe\">\n",
       "  <thead>\n",
       "    <tr style=\"text-align: right;\">\n",
       "      <th></th>\n",
       "      <th>listing_id</th>\n",
       "      <th>date</th>\n",
       "      <th>available</th>\n",
       "      <th>price</th>\n",
       "      <th>adjusted_price</th>\n",
       "      <th>minimum_nights</th>\n",
       "      <th>maximum_nights</th>\n",
       "    </tr>\n",
       "  </thead>\n",
       "  <tbody>\n",
       "    <tr>\n",
       "      <th>0</th>\n",
       "      <td>96033</td>\n",
       "      <td>2022-09-29</td>\n",
       "      <td>f</td>\n",
       "      <td>$55.00</td>\n",
       "      <td>$55.00</td>\n",
       "      <td>4</td>\n",
       "      <td>1125</td>\n",
       "    </tr>\n",
       "    <tr>\n",
       "      <th>1</th>\n",
       "      <td>96033</td>\n",
       "      <td>2022-09-30</td>\n",
       "      <td>f</td>\n",
       "      <td>$55.00</td>\n",
       "      <td>$55.00</td>\n",
       "      <td>4</td>\n",
       "      <td>1125</td>\n",
       "    </tr>\n",
       "    <tr>\n",
       "      <th>2</th>\n",
       "      <td>96033</td>\n",
       "      <td>2022-10-01</td>\n",
       "      <td>f</td>\n",
       "      <td>$55.00</td>\n",
       "      <td>$55.00</td>\n",
       "      <td>4</td>\n",
       "      <td>1125</td>\n",
       "    </tr>\n",
       "    <tr>\n",
       "      <th>3</th>\n",
       "      <td>96033</td>\n",
       "      <td>2022-10-02</td>\n",
       "      <td>f</td>\n",
       "      <td>$55.00</td>\n",
       "      <td>$55.00</td>\n",
       "      <td>4</td>\n",
       "      <td>1125</td>\n",
       "    </tr>\n",
       "    <tr>\n",
       "      <th>4</th>\n",
       "      <td>96033</td>\n",
       "      <td>2022-10-03</td>\n",
       "      <td>f</td>\n",
       "      <td>$55.00</td>\n",
       "      <td>$55.00</td>\n",
       "      <td>4</td>\n",
       "      <td>1125</td>\n",
       "    </tr>\n",
       "  </tbody>\n",
       "</table>\n",
       "</div>"
      ],
      "text/plain": [
       "   listing_id        date available   price adjusted_price  minimum_nights  \\\n",
       "0       96033  2022-09-29         f  $55.00         $55.00               4   \n",
       "1       96033  2022-09-30         f  $55.00         $55.00               4   \n",
       "2       96033  2022-10-01         f  $55.00         $55.00               4   \n",
       "3       96033  2022-10-02         f  $55.00         $55.00               4   \n",
       "4       96033  2022-10-03         f  $55.00         $55.00               4   \n",
       "\n",
       "   maximum_nights  \n",
       "0            1125  \n",
       "1            1125  \n",
       "2            1125  \n",
       "3            1125  \n",
       "4            1125  "
      ]
     },
     "execution_count": 13,
     "metadata": {},
     "output_type": "execute_result"
    }
   ],
   "source": [
    "calendar.head()"
   ]
  },
  {
   "cell_type": "code",
   "execution_count": 14,
   "metadata": {
    "colab": {
     "base_uri": "https://localhost:8080/",
     "height": 866
    },
    "id": "Uoj4k7LzGf-B",
    "outputId": "893adf23-47af-44e1-acb6-2fbf0bf12ccf"
   },
   "outputs": [
    {
     "data": {
      "text/html": [
       "<div>\n",
       "<style scoped>\n",
       "    .dataframe tbody tr th:only-of-type {\n",
       "        vertical-align: middle;\n",
       "    }\n",
       "\n",
       "    .dataframe tbody tr th {\n",
       "        vertical-align: top;\n",
       "    }\n",
       "\n",
       "    .dataframe thead th {\n",
       "        text-align: right;\n",
       "    }\n",
       "</style>\n",
       "<table border=\"1\" class=\"dataframe\">\n",
       "  <thead>\n",
       "    <tr style=\"text-align: right;\">\n",
       "      <th></th>\n",
       "      <th>listing_id</th>\n",
       "      <th>date</th>\n",
       "      <th>available</th>\n",
       "      <th>price</th>\n",
       "      <th>adjusted_price</th>\n",
       "      <th>minimum_nights</th>\n",
       "      <th>maximum_nights</th>\n",
       "    </tr>\n",
       "  </thead>\n",
       "  <tbody>\n",
       "    <tr>\n",
       "      <th>0</th>\n",
       "      <td>96033</td>\n",
       "      <td>2022-09-29</td>\n",
       "      <td>f</td>\n",
       "      <td>$55.00</td>\n",
       "      <td>$55.00</td>\n",
       "      <td>4</td>\n",
       "      <td>1125</td>\n",
       "    </tr>\n",
       "    <tr>\n",
       "      <th>1</th>\n",
       "      <td>96033</td>\n",
       "      <td>2022-09-30</td>\n",
       "      <td>f</td>\n",
       "      <td>$55.00</td>\n",
       "      <td>$55.00</td>\n",
       "      <td>4</td>\n",
       "      <td>1125</td>\n",
       "    </tr>\n",
       "    <tr>\n",
       "      <th>2</th>\n",
       "      <td>96033</td>\n",
       "      <td>2022-10-01</td>\n",
       "      <td>f</td>\n",
       "      <td>$55.00</td>\n",
       "      <td>$55.00</td>\n",
       "      <td>4</td>\n",
       "      <td>1125</td>\n",
       "    </tr>\n",
       "    <tr>\n",
       "      <th>3</th>\n",
       "      <td>96033</td>\n",
       "      <td>2022-10-02</td>\n",
       "      <td>f</td>\n",
       "      <td>$55.00</td>\n",
       "      <td>$55.00</td>\n",
       "      <td>4</td>\n",
       "      <td>1125</td>\n",
       "    </tr>\n",
       "    <tr>\n",
       "      <th>4</th>\n",
       "      <td>96033</td>\n",
       "      <td>2022-10-03</td>\n",
       "      <td>f</td>\n",
       "      <td>$55.00</td>\n",
       "      <td>$55.00</td>\n",
       "      <td>4</td>\n",
       "      <td>1125</td>\n",
       "    </tr>\n",
       "    <tr>\n",
       "      <th>5</th>\n",
       "      <td>96033</td>\n",
       "      <td>2022-10-04</td>\n",
       "      <td>f</td>\n",
       "      <td>$55.00</td>\n",
       "      <td>$55.00</td>\n",
       "      <td>4</td>\n",
       "      <td>1125</td>\n",
       "    </tr>\n",
       "    <tr>\n",
       "      <th>10</th>\n",
       "      <td>96033</td>\n",
       "      <td>2022-10-09</td>\n",
       "      <td>f</td>\n",
       "      <td>$58.00</td>\n",
       "      <td>$58.00</td>\n",
       "      <td>4</td>\n",
       "      <td>1125</td>\n",
       "    </tr>\n",
       "    <tr>\n",
       "      <th>11</th>\n",
       "      <td>96033</td>\n",
       "      <td>2022-10-10</td>\n",
       "      <td>f</td>\n",
       "      <td>$53.00</td>\n",
       "      <td>$53.00</td>\n",
       "      <td>4</td>\n",
       "      <td>1125</td>\n",
       "    </tr>\n",
       "    <tr>\n",
       "      <th>12</th>\n",
       "      <td>96033</td>\n",
       "      <td>2022-10-11</td>\n",
       "      <td>f</td>\n",
       "      <td>$51.00</td>\n",
       "      <td>$51.00</td>\n",
       "      <td>4</td>\n",
       "      <td>1125</td>\n",
       "    </tr>\n",
       "    <tr>\n",
       "      <th>13</th>\n",
       "      <td>96033</td>\n",
       "      <td>2022-10-12</td>\n",
       "      <td>f</td>\n",
       "      <td>$55.00</td>\n",
       "      <td>$55.00</td>\n",
       "      <td>4</td>\n",
       "      <td>1125</td>\n",
       "    </tr>\n",
       "    <tr>\n",
       "      <th>15</th>\n",
       "      <td>96033</td>\n",
       "      <td>2022-10-14</td>\n",
       "      <td>f</td>\n",
       "      <td>$54.00</td>\n",
       "      <td>$54.00</td>\n",
       "      <td>4</td>\n",
       "      <td>1125</td>\n",
       "    </tr>\n",
       "    <tr>\n",
       "      <th>16</th>\n",
       "      <td>96033</td>\n",
       "      <td>2022-10-15</td>\n",
       "      <td>f</td>\n",
       "      <td>$50.00</td>\n",
       "      <td>$50.00</td>\n",
       "      <td>4</td>\n",
       "      <td>1125</td>\n",
       "    </tr>\n",
       "    <tr>\n",
       "      <th>17</th>\n",
       "      <td>96033</td>\n",
       "      <td>2022-10-16</td>\n",
       "      <td>f</td>\n",
       "      <td>$50.00</td>\n",
       "      <td>$50.00</td>\n",
       "      <td>4</td>\n",
       "      <td>1125</td>\n",
       "    </tr>\n",
       "    <tr>\n",
       "      <th>18</th>\n",
       "      <td>96033</td>\n",
       "      <td>2022-10-17</td>\n",
       "      <td>f</td>\n",
       "      <td>$49.00</td>\n",
       "      <td>$49.00</td>\n",
       "      <td>4</td>\n",
       "      <td>1125</td>\n",
       "    </tr>\n",
       "    <tr>\n",
       "      <th>19</th>\n",
       "      <td>96033</td>\n",
       "      <td>2022-10-18</td>\n",
       "      <td>f</td>\n",
       "      <td>$49.00</td>\n",
       "      <td>$49.00</td>\n",
       "      <td>4</td>\n",
       "      <td>1125</td>\n",
       "    </tr>\n",
       "    <tr>\n",
       "      <th>22</th>\n",
       "      <td>96033</td>\n",
       "      <td>2022-10-21</td>\n",
       "      <td>f</td>\n",
       "      <td>$55.00</td>\n",
       "      <td>$55.00</td>\n",
       "      <td>4</td>\n",
       "      <td>1125</td>\n",
       "    </tr>\n",
       "    <tr>\n",
       "      <th>23</th>\n",
       "      <td>96033</td>\n",
       "      <td>2022-10-22</td>\n",
       "      <td>f</td>\n",
       "      <td>$55.00</td>\n",
       "      <td>$55.00</td>\n",
       "      <td>4</td>\n",
       "      <td>1125</td>\n",
       "    </tr>\n",
       "    <tr>\n",
       "      <th>24</th>\n",
       "      <td>96033</td>\n",
       "      <td>2022-10-23</td>\n",
       "      <td>f</td>\n",
       "      <td>$55.00</td>\n",
       "      <td>$55.00</td>\n",
       "      <td>4</td>\n",
       "      <td>1125</td>\n",
       "    </tr>\n",
       "    <tr>\n",
       "      <th>25</th>\n",
       "      <td>96033</td>\n",
       "      <td>2022-10-24</td>\n",
       "      <td>f</td>\n",
       "      <td>$55.00</td>\n",
       "      <td>$55.00</td>\n",
       "      <td>4</td>\n",
       "      <td>1125</td>\n",
       "    </tr>\n",
       "    <tr>\n",
       "      <th>26</th>\n",
       "      <td>96033</td>\n",
       "      <td>2022-10-25</td>\n",
       "      <td>f</td>\n",
       "      <td>$55.00</td>\n",
       "      <td>$55.00</td>\n",
       "      <td>4</td>\n",
       "      <td>1125</td>\n",
       "    </tr>\n",
       "    <tr>\n",
       "      <th>27</th>\n",
       "      <td>96033</td>\n",
       "      <td>2022-10-26</td>\n",
       "      <td>f</td>\n",
       "      <td>$55.00</td>\n",
       "      <td>$55.00</td>\n",
       "      <td>4</td>\n",
       "      <td>1125</td>\n",
       "    </tr>\n",
       "    <tr>\n",
       "      <th>28</th>\n",
       "      <td>96033</td>\n",
       "      <td>2022-10-27</td>\n",
       "      <td>f</td>\n",
       "      <td>$55.00</td>\n",
       "      <td>$55.00</td>\n",
       "      <td>4</td>\n",
       "      <td>1125</td>\n",
       "    </tr>\n",
       "    <tr>\n",
       "      <th>29</th>\n",
       "      <td>96033</td>\n",
       "      <td>2022-10-28</td>\n",
       "      <td>f</td>\n",
       "      <td>$59.00</td>\n",
       "      <td>$59.00</td>\n",
       "      <td>4</td>\n",
       "      <td>1125</td>\n",
       "    </tr>\n",
       "    <tr>\n",
       "      <th>30</th>\n",
       "      <td>96033</td>\n",
       "      <td>2022-10-29</td>\n",
       "      <td>f</td>\n",
       "      <td>$59.00</td>\n",
       "      <td>$59.00</td>\n",
       "      <td>4</td>\n",
       "      <td>1125</td>\n",
       "    </tr>\n",
       "  </tbody>\n",
       "</table>\n",
       "</div>"
      ],
      "text/plain": [
       "    listing_id        date available   price adjusted_price  minimum_nights  \\\n",
       "0        96033  2022-09-29         f  $55.00         $55.00               4   \n",
       "1        96033  2022-09-30         f  $55.00         $55.00               4   \n",
       "2        96033  2022-10-01         f  $55.00         $55.00               4   \n",
       "3        96033  2022-10-02         f  $55.00         $55.00               4   \n",
       "4        96033  2022-10-03         f  $55.00         $55.00               4   \n",
       "5        96033  2022-10-04         f  $55.00         $55.00               4   \n",
       "10       96033  2022-10-09         f  $58.00         $58.00               4   \n",
       "11       96033  2022-10-10         f  $53.00         $53.00               4   \n",
       "12       96033  2022-10-11         f  $51.00         $51.00               4   \n",
       "13       96033  2022-10-12         f  $55.00         $55.00               4   \n",
       "15       96033  2022-10-14         f  $54.00         $54.00               4   \n",
       "16       96033  2022-10-15         f  $50.00         $50.00               4   \n",
       "17       96033  2022-10-16         f  $50.00         $50.00               4   \n",
       "18       96033  2022-10-17         f  $49.00         $49.00               4   \n",
       "19       96033  2022-10-18         f  $49.00         $49.00               4   \n",
       "22       96033  2022-10-21         f  $55.00         $55.00               4   \n",
       "23       96033  2022-10-22         f  $55.00         $55.00               4   \n",
       "24       96033  2022-10-23         f  $55.00         $55.00               4   \n",
       "25       96033  2022-10-24         f  $55.00         $55.00               4   \n",
       "26       96033  2022-10-25         f  $55.00         $55.00               4   \n",
       "27       96033  2022-10-26         f  $55.00         $55.00               4   \n",
       "28       96033  2022-10-27         f  $55.00         $55.00               4   \n",
       "29       96033  2022-10-28         f  $59.00         $59.00               4   \n",
       "30       96033  2022-10-29         f  $59.00         $59.00               4   \n",
       "\n",
       "    maximum_nights  \n",
       "0             1125  \n",
       "1             1125  \n",
       "2             1125  \n",
       "3             1125  \n",
       "4             1125  \n",
       "5             1125  \n",
       "10            1125  \n",
       "11            1125  \n",
       "12            1125  \n",
       "13            1125  \n",
       "15            1125  \n",
       "16            1125  \n",
       "17            1125  \n",
       "18            1125  \n",
       "19            1125  \n",
       "22            1125  \n",
       "23            1125  \n",
       "24            1125  \n",
       "25            1125  \n",
       "26            1125  \n",
       "27            1125  \n",
       "28            1125  \n",
       "29            1125  \n",
       "30            1125  "
      ]
     },
     "execution_count": 14,
     "metadata": {},
     "output_type": "execute_result"
    }
   ],
   "source": [
    "calendar.query(\"listing_id== 96033 & available == 'f'\")"
   ]
  },
  {
   "cell_type": "code",
   "execution_count": 15,
   "metadata": {
    "colab": {
     "base_uri": "https://localhost:8080/"
    },
    "id": "_xK3PbWBGykP",
    "outputId": "ff019f1f-34bc-4aad-9317-11a4a71da052"
   },
   "outputs": [
    {
     "data": {
      "text/plain": [
       "https://www.airbnb.com/rooms/96033                 1\n",
       "https://www.airbnb.com/rooms/599231092946287209    1\n",
       "https://www.airbnb.com/rooms/600514726516770010    1\n",
       "https://www.airbnb.com/rooms/600488438385932275    1\n",
       "https://www.airbnb.com/rooms/600464306180666664    1\n",
       "                                                  ..\n",
       "https://www.airbnb.com/rooms/38213631              1\n",
       "https://www.airbnb.com/rooms/38206988              1\n",
       "https://www.airbnb.com/rooms/38201574              1\n",
       "https://www.airbnb.com/rooms/38201546              1\n",
       "https://www.airbnb.com/rooms/33469519              1\n",
       "Name: listing_url, Length: 8481, dtype: int64"
      ]
     },
     "execution_count": 15,
     "metadata": {},
     "output_type": "execute_result"
    }
   ],
   "source": [
    "listing[\"listing_url\"].value_counts()"
   ]
  },
  {
   "cell_type": "code",
   "execution_count": 16,
   "metadata": {
    "colab": {
     "base_uri": "https://localhost:8080/"
    },
    "id": "G_mCvkEnHOXW",
    "outputId": "19c45747-7fd3-431e-85d0-c1edd96b3670"
   },
   "outputs": [
    {
     "data": {
      "text/plain": [
       "count        3095565\n",
       "unique           365\n",
       "top       2022-09-29\n",
       "freq            8481\n",
       "Name: date, dtype: object"
      ]
     },
     "execution_count": 16,
     "metadata": {},
     "output_type": "execute_result"
    }
   ],
   "source": [
    "calendar.date.describe()"
   ]
  },
  {
   "cell_type": "code",
   "execution_count": 17,
   "metadata": {
    "id": "bg4VFgu_ayqS"
   },
   "outputs": [],
   "source": [
    "calendar[\"date_timestamp\"]=pd.to_datetime(calendar[\"date\"])"
   ]
  },
  {
   "cell_type": "code",
   "execution_count": 18,
   "metadata": {
    "colab": {
     "base_uri": "https://localhost:8080/"
    },
    "id": "zAe3IF_4bhtC",
    "outputId": "e8bdb3d4-f37a-47e2-9276-57e454b89e29"
   },
   "outputs": [
    {
     "data": {
      "text/plain": [
       "count                          3095565\n",
       "mean     2023-03-29 23:59:59.999999744\n",
       "min                2022-09-29 00:00:00\n",
       "25%                2022-12-29 00:00:00\n",
       "50%                2023-03-30 00:00:00\n",
       "75%                2023-06-29 00:00:00\n",
       "max                2023-09-28 00:00:00\n",
       "Name: date_timestamp, dtype: object"
      ]
     },
     "execution_count": 18,
     "metadata": {},
     "output_type": "execute_result"
    }
   ],
   "source": [
    "calendar[\"date_timestamp\"].describe(datetime_is_numeric=True)"
   ]
  },
  {
   "cell_type": "code",
   "execution_count": 19,
   "metadata": {
    "colab": {
     "base_uri": "https://localhost:8080/"
    },
    "id": "gJwlEQO6bmAP",
    "outputId": "ea07daa9-ae0c-4820-aaf5-c99925bb1f16"
   },
   "outputs": [
    {
     "data": {
      "text/plain": [
       "31    59367\n",
       "30    25443\n",
       "28     8481\n",
       "Name: date, dtype: int64"
      ]
     },
     "execution_count": 19,
     "metadata": {},
     "output_type": "execute_result"
    }
   ],
   "source": [
    "#Checking that there are 31,30 or 28 occurrences for every month \n",
    "start_date, end_date = '2022-10-01', '2023-08-31'\n",
    "calendar[[\"date\",\"date_timestamp\",\"listing_id\"]].\\\n",
    "query('date >= @start_date and date <= @end_date').\\\n",
    "groupby([calendar.date_timestamp.dt.year,calendar.date_timestamp.dt.month,\"listing_id\"]).\\\n",
    "count()[\"date\"].value_counts()"
   ]
  },
  {
   "cell_type": "code",
   "execution_count": 20,
   "metadata": {
    "colab": {
     "base_uri": "https://localhost:8080/",
     "height": 520
    },
    "id": "Y1shRlEbcykk",
    "outputId": "edce1396-e696-47ba-db09-c5b272281153"
   },
   "outputs": [
    {
     "data": {
      "text/html": [
       "<div>\n",
       "<style scoped>\n",
       "    .dataframe tbody tr th:only-of-type {\n",
       "        vertical-align: middle;\n",
       "    }\n",
       "\n",
       "    .dataframe tbody tr th {\n",
       "        vertical-align: top;\n",
       "    }\n",
       "\n",
       "    .dataframe thead tr th {\n",
       "        text-align: left;\n",
       "    }\n",
       "\n",
       "    .dataframe thead tr:last-of-type th {\n",
       "        text-align: right;\n",
       "    }\n",
       "</style>\n",
       "<table border=\"1\" class=\"dataframe\">\n",
       "  <thead>\n",
       "    <tr>\n",
       "      <th></th>\n",
       "      <th></th>\n",
       "      <th colspan=\"2\" halign=\"left\">listing_id</th>\n",
       "    </tr>\n",
       "    <tr>\n",
       "      <th></th>\n",
       "      <th>available</th>\n",
       "      <th>f</th>\n",
       "      <th>t</th>\n",
       "    </tr>\n",
       "    <tr>\n",
       "      <th>date_timestamp</th>\n",
       "      <th>date_timestamp</th>\n",
       "      <th></th>\n",
       "      <th></th>\n",
       "    </tr>\n",
       "  </thead>\n",
       "  <tbody>\n",
       "    <tr>\n",
       "      <th rowspan=\"4\" valign=\"top\">2022</th>\n",
       "      <th>9</th>\n",
       "      <td>13350</td>\n",
       "      <td>3612</td>\n",
       "    </tr>\n",
       "    <tr>\n",
       "      <th>10</th>\n",
       "      <td>147813</td>\n",
       "      <td>115098</td>\n",
       "    </tr>\n",
       "    <tr>\n",
       "      <th>11</th>\n",
       "      <td>96144</td>\n",
       "      <td>158286</td>\n",
       "    </tr>\n",
       "    <tr>\n",
       "      <th>12</th>\n",
       "      <td>92556</td>\n",
       "      <td>170355</td>\n",
       "    </tr>\n",
       "    <tr>\n",
       "      <th rowspan=\"9\" valign=\"top\">2023</th>\n",
       "      <th>1</th>\n",
       "      <td>111973</td>\n",
       "      <td>150938</td>\n",
       "    </tr>\n",
       "    <tr>\n",
       "      <th>2</th>\n",
       "      <td>104019</td>\n",
       "      <td>133449</td>\n",
       "    </tr>\n",
       "    <tr>\n",
       "      <th>3</th>\n",
       "      <td>114463</td>\n",
       "      <td>148448</td>\n",
       "    </tr>\n",
       "    <tr>\n",
       "      <th>4</th>\n",
       "      <td>127976</td>\n",
       "      <td>126454</td>\n",
       "    </tr>\n",
       "    <tr>\n",
       "      <th>5</th>\n",
       "      <td>126007</td>\n",
       "      <td>136904</td>\n",
       "    </tr>\n",
       "    <tr>\n",
       "      <th>6</th>\n",
       "      <td>123202</td>\n",
       "      <td>131228</td>\n",
       "    </tr>\n",
       "    <tr>\n",
       "      <th>7</th>\n",
       "      <td>133462</td>\n",
       "      <td>129449</td>\n",
       "    </tr>\n",
       "    <tr>\n",
       "      <th>8</th>\n",
       "      <td>135252</td>\n",
       "      <td>127659</td>\n",
       "    </tr>\n",
       "    <tr>\n",
       "      <th>9</th>\n",
       "      <td>120504</td>\n",
       "      <td>116964</td>\n",
       "    </tr>\n",
       "  </tbody>\n",
       "</table>\n",
       "</div>"
      ],
      "text/plain": [
       "                              listing_id        \n",
       "available                              f       t\n",
       "date_timestamp date_timestamp                   \n",
       "2022           9                   13350    3612\n",
       "               10                 147813  115098\n",
       "               11                  96144  158286\n",
       "               12                  92556  170355\n",
       "2023           1                  111973  150938\n",
       "               2                  104019  133449\n",
       "               3                  114463  148448\n",
       "               4                  127976  126454\n",
       "               5                  126007  136904\n",
       "               6                  123202  131228\n",
       "               7                  133462  129449\n",
       "               8                  135252  127659\n",
       "               9                  120504  116964"
      ]
     },
     "execution_count": 20,
     "metadata": {},
     "output_type": "execute_result"
    }
   ],
   "source": [
    "#Checking that there are booked days in the future also\n",
    "calendar.pivot_table(index=[calendar.date_timestamp.dt.year,calendar.date_timestamp.dt.month], columns=['available'],values=['listing_id'],aggfunc='count')"
   ]
  },
  {
   "cell_type": "code",
   "execution_count": 21,
   "metadata": {
    "id": "-iaEs_ciej85"
   },
   "outputs": [],
   "source": [
    "#TODO\n",
    "#Calculate two columns: Gains and potential gains. Supposing that when a listing is no available, it is earning money\n",
    "#Describe the type of accomodation offered (mayber per neighbourhood?)"
   ]
  },
  {
   "cell_type": "code",
   "execution_count": 22,
   "metadata": {
    "colab": {
     "base_uri": "https://localhost:8080/",
     "height": 514
    },
    "id": "F34UQo_8QlnD",
    "outputId": "37b67380-0dd9-4ec8-ab8a-e3184b59a876"
   },
   "outputs": [
    {
     "data": {
      "text/plain": [
       "<AxesSubplot:xlabel='room_type', ylabel='Percent'>"
      ]
     },
     "execution_count": 22,
     "metadata": {},
     "output_type": "execute_result"
    },
    {
     "data": {
      "image/png": "[encoded data removed]",
      "text/plain": [
       "<Figure size 1000x800 with 2 Axes>"
      ]
     },
     "metadata": {},
     "output_type": "display_data"
    }
   ],
   "source": [
    "#Room type. Count and percentage\n",
    "plt.figure(1,figsize=(10,8))\n",
    "plt.subplot(211)\n",
    "sns.countplot(data=listing,x=\"room_type\")\n",
    "plt.subplot(212)\n",
    "sns.histplot(data=listing,x=\"room_type\",stat=\"percent\", shrink =0.8)\n",
    "#Add annotation?"
   ]
  },
  {
   "cell_type": "code",
   "execution_count": null,
   "metadata": {},
   "outputs": [],
   "source": []
  },
  {
   "cell_type": "code",
   "execution_count": 23,
   "metadata": {
    "colab": {
     "base_uri": "https://localhost:8080/",
     "height": 175
    },
    "id": "j-nqB5-6SA0B",
    "outputId": "ded01b5f-695c-4a97-9590-0d5f2e89515f"
   },
   "outputs": [
    {
     "data": {
      "text/html": [
       "<div>\n",
       "<style scoped>\n",
       "    .dataframe tbody tr th:only-of-type {\n",
       "        vertical-align: middle;\n",
       "    }\n",
       "\n",
       "    .dataframe tbody tr th {\n",
       "        vertical-align: top;\n",
       "    }\n",
       "\n",
       "    .dataframe thead th {\n",
       "        text-align: right;\n",
       "    }\n",
       "</style>\n",
       "<table border=\"1\" class=\"dataframe\">\n",
       "  <thead>\n",
       "    <tr style=\"text-align: right;\">\n",
       "      <th></th>\n",
       "      <th>count</th>\n",
       "      <th>percentage</th>\n",
       "    </tr>\n",
       "  </thead>\n",
       "  <tbody>\n",
       "    <tr>\n",
       "      <th>Entire home/apt</th>\n",
       "      <td>7390</td>\n",
       "      <td>87.135951</td>\n",
       "    </tr>\n",
       "    <tr>\n",
       "      <th>Private room</th>\n",
       "      <td>1054</td>\n",
       "      <td>12.427780</td>\n",
       "    </tr>\n",
       "    <tr>\n",
       "      <th>Shared room</th>\n",
       "      <td>21</td>\n",
       "      <td>0.247612</td>\n",
       "    </tr>\n",
       "    <tr>\n",
       "      <th>Hotel room</th>\n",
       "      <td>16</td>\n",
       "      <td>0.188657</td>\n",
       "    </tr>\n",
       "  </tbody>\n",
       "</table>\n",
       "</div>"
      ],
      "text/plain": [
       "                 count  percentage\n",
       "Entire home/apt   7390   87.135951\n",
       "Private room      1054   12.427780\n",
       "Shared room         21    0.247612\n",
       "Hotel room          16    0.188657"
      ]
     },
     "execution_count": 23,
     "metadata": {},
     "output_type": "execute_result"
    }
   ],
   "source": [
    "room_types = pd.DataFrame(\\\n",
    "                          {\"count\":listing[\"room_type\"].value_counts(),\\\n",
    "                           \"percentage\": listing[\"room_type\"].value_counts(normalize=True)*100}\\\n",
    "                          )\n",
    "room_types"
   ]
  },
  {
   "cell_type": "code",
   "execution_count": 24,
   "metadata": {
    "id": "fhbLaLXTYSgF"
   },
   "outputs": [],
   "source": [
    "#Listings per host"
   ]
  },
  {
   "cell_type": "code",
   "execution_count": null,
   "metadata": {
    "id": "OWVQLCPzoRdD"
   },
   "outputs": [],
   "source": []
  },
  {
   "cell_type": "code",
   "execution_count": 25,
   "metadata": {
    "colab": {
     "base_uri": "https://localhost:8080/",
     "height": 455
    },
    "id": "oIBg6-RyY7Ne",
    "outputId": "19e097ac-3f3a-4dab-fb63-77b94298abc3"
   },
   "outputs": [
    {
     "data": {
      "text/html": [
       "<div>\n",
       "<style scoped>\n",
       "    .dataframe tbody tr th:only-of-type {\n",
       "        vertical-align: middle;\n",
       "    }\n",
       "\n",
       "    .dataframe tbody tr th {\n",
       "        vertical-align: top;\n",
       "    }\n",
       "\n",
       "    .dataframe thead th {\n",
       "        text-align: right;\n",
       "    }\n",
       "</style>\n",
       "<table border=\"1\" class=\"dataframe\">\n",
       "  <thead>\n",
       "    <tr style=\"text-align: right;\">\n",
       "      <th></th>\n",
       "      <th>listing_count</th>\n",
       "    </tr>\n",
       "    <tr>\n",
       "      <th>host_id</th>\n",
       "      <th></th>\n",
       "    </tr>\n",
       "  </thead>\n",
       "  <tbody>\n",
       "    <tr>\n",
       "      <th>80225433</th>\n",
       "      <td>162</td>\n",
       "    </tr>\n",
       "    <tr>\n",
       "      <th>63293666</th>\n",
       "      <td>149</td>\n",
       "    </tr>\n",
       "    <tr>\n",
       "      <th>115528688</th>\n",
       "      <td>102</td>\n",
       "    </tr>\n",
       "    <tr>\n",
       "      <th>5890675</th>\n",
       "      <td>98</td>\n",
       "    </tr>\n",
       "    <tr>\n",
       "      <th>317065206</th>\n",
       "      <td>83</td>\n",
       "    </tr>\n",
       "    <tr>\n",
       "      <th>...</th>\n",
       "      <td>...</td>\n",
       "    </tr>\n",
       "    <tr>\n",
       "      <th>92599053</th>\n",
       "      <td>1</td>\n",
       "    </tr>\n",
       "    <tr>\n",
       "      <th>92613704</th>\n",
       "      <td>1</td>\n",
       "    </tr>\n",
       "    <tr>\n",
       "      <th>92652828</th>\n",
       "      <td>1</td>\n",
       "    </tr>\n",
       "    <tr>\n",
       "      <th>92821159</th>\n",
       "      <td>1</td>\n",
       "    </tr>\n",
       "    <tr>\n",
       "      <th>481229876</th>\n",
       "      <td>1</td>\n",
       "    </tr>\n",
       "  </tbody>\n",
       "</table>\n",
       "<p>3647 rows × 1 columns</p>\n",
       "</div>"
      ],
      "text/plain": [
       "           listing_count\n",
       "host_id                 \n",
       "80225433             162\n",
       "63293666             149\n",
       "115528688            102\n",
       "5890675               98\n",
       "317065206             83\n",
       "...                  ...\n",
       "92599053               1\n",
       "92613704               1\n",
       "92652828               1\n",
       "92821159               1\n",
       "481229876              1\n",
       "\n",
       "[3647 rows x 1 columns]"
      ]
     },
     "execution_count": 25,
     "metadata": {},
     "output_type": "execute_result"
    }
   ],
   "source": [
    "listings_per_host= listing[[\"host_id\",\"id\"]].\\\n",
    "                                            groupby(\"host_id\").agg(\"count\").\\\n",
    "                                            sort_values(by='id',ascending=False).\\\n",
    "                                            rename(columns={\"id\": \"listing_count\"})\n",
    "listings_per_host"
   ]
  },
  {
   "cell_type": "code",
   "execution_count": 26,
   "metadata": {
    "colab": {
     "base_uri": "https://localhost:8080/",
     "height": 297
    },
    "id": "esQ6fu-cqDpk",
    "outputId": "4f3bf428-948e-4c5a-ea66-66a89a97daff"
   },
   "outputs": [
    {
     "data": {
      "text/plain": [
       "<AxesSubplot:xlabel='listing_count', ylabel='Count'>"
      ]
     },
     "execution_count": 26,
     "metadata": {},
     "output_type": "execute_result"
    },
    {
     "data": {
      "image/png": "[encoded data removed]",
      "text/plain": [
       "<Figure size 640x480 with 1 Axes>"
      ]
     },
     "metadata": {},
     "output_type": "display_data"
    }
   ],
   "source": [
    "sns.histplot(data=listings_per_host, x= \"listing_count\")"
   ]
  },
  {
   "cell_type": "code",
   "execution_count": 27,
   "metadata": {
    "colab": {
     "base_uri": "https://localhost:8080/",
     "height": 426
    },
    "id": "WcAIfeRDqSFN",
    "outputId": "e599614e-e53f-49a7-aaaa-cb9af6ba54c1"
   },
   "outputs": [
    {
     "data": {
      "text/html": [
       "<div>\n",
       "<style scoped>\n",
       "    .dataframe tbody tr th:only-of-type {\n",
       "        vertical-align: middle;\n",
       "    }\n",
       "\n",
       "    .dataframe tbody tr th {\n",
       "        vertical-align: top;\n",
       "    }\n",
       "\n",
       "    .dataframe thead th {\n",
       "        text-align: right;\n",
       "    }\n",
       "</style>\n",
       "<table border=\"1\" class=\"dataframe\">\n",
       "  <thead>\n",
       "    <tr style=\"text-align: right;\">\n",
       "      <th></th>\n",
       "      <th>frequency</th>\n",
       "      <th>percent</th>\n",
       "      <th>cum_percent</th>\n",
       "    </tr>\n",
       "    <tr>\n",
       "      <th>listing_count</th>\n",
       "      <th></th>\n",
       "      <th></th>\n",
       "      <th></th>\n",
       "    </tr>\n",
       "  </thead>\n",
       "  <tbody>\n",
       "    <tr>\n",
       "      <th>1</th>\n",
       "      <td>2581</td>\n",
       "      <td>70.770496</td>\n",
       "      <td>70.770496</td>\n",
       "    </tr>\n",
       "    <tr>\n",
       "      <th>2</th>\n",
       "      <td>489</td>\n",
       "      <td>13.408281</td>\n",
       "      <td>84.178777</td>\n",
       "    </tr>\n",
       "    <tr>\n",
       "      <th>3</th>\n",
       "      <td>191</td>\n",
       "      <td>5.237181</td>\n",
       "      <td>89.415958</td>\n",
       "    </tr>\n",
       "    <tr>\n",
       "      <th>4</th>\n",
       "      <td>112</td>\n",
       "      <td>3.071017</td>\n",
       "      <td>92.486976</td>\n",
       "    </tr>\n",
       "    <tr>\n",
       "      <th>5</th>\n",
       "      <td>57</td>\n",
       "      <td>1.562928</td>\n",
       "      <td>94.049904</td>\n",
       "    </tr>\n",
       "    <tr>\n",
       "      <th>6</th>\n",
       "      <td>41</td>\n",
       "      <td>1.124212</td>\n",
       "      <td>95.174116</td>\n",
       "    </tr>\n",
       "    <tr>\n",
       "      <th>7</th>\n",
       "      <td>33</td>\n",
       "      <td>0.904853</td>\n",
       "      <td>96.078969</td>\n",
       "    </tr>\n",
       "    <tr>\n",
       "      <th>8</th>\n",
       "      <td>23</td>\n",
       "      <td>0.630655</td>\n",
       "      <td>96.709624</td>\n",
       "    </tr>\n",
       "    <tr>\n",
       "      <th>10</th>\n",
       "      <td>17</td>\n",
       "      <td>0.466137</td>\n",
       "      <td>97.175761</td>\n",
       "    </tr>\n",
       "    <tr>\n",
       "      <th>9</th>\n",
       "      <td>12</td>\n",
       "      <td>0.329038</td>\n",
       "      <td>97.504798</td>\n",
       "    </tr>\n",
       "    <tr>\n",
       "      <th>11</th>\n",
       "      <td>11</td>\n",
       "      <td>0.301618</td>\n",
       "      <td>97.806416</td>\n",
       "    </tr>\n",
       "  </tbody>\n",
       "</table>\n",
       "</div>"
      ],
      "text/plain": [
       "               frequency    percent  cum_percent\n",
       "listing_count                                   \n",
       "1                   2581  70.770496    70.770496\n",
       "2                    489  13.408281    84.178777\n",
       "3                    191   5.237181    89.415958\n",
       "4                    112   3.071017    92.486976\n",
       "5                     57   1.562928    94.049904\n",
       "6                     41   1.124212    95.174116\n",
       "7                     33   0.904853    96.078969\n",
       "8                     23   0.630655    96.709624\n",
       "10                    17   0.466137    97.175761\n",
       "9                     12   0.329038    97.504798\n",
       "11                    11   0.301618    97.806416"
      ]
     },
     "execution_count": 27,
     "metadata": {},
     "output_type": "execute_result"
    }
   ],
   "source": [
    "#df[cum_percent] = 100 * (df[‘column_name’].cumsum()/df[‘column_name’].sum()) \n",
    "listings_per_host_freq =pd.DataFrame({\"frequency\":listings_per_host.value_counts()})\n",
    "listings_per_host_freq[\"percent\"]= listings_per_host_freq[\"frequency\"]/(listings_per_host_freq[\"frequency\"].sum())*100\n",
    "listings_per_host_freq[\"cum_percent\"] = 100 * (listings_per_host_freq[\"frequency\"].cumsum()/listings_per_host_freq[\"frequency\"].sum()) \n",
    "listings_per_host_freq.query(\"cum_percent < 98\")\n"
   ]
  },
  {
   "cell_type": "code",
   "execution_count": 28,
   "metadata": {
    "id": "9BZFs4q2uebE"
   },
   "outputs": [],
   "source": [
    "#98% of hosts have 11 listings or less"
   ]
  },
  {
   "cell_type": "code",
   "execution_count": 29,
   "metadata": {
    "id": "2j9oVe40ubrK"
   },
   "outputs": [],
   "source": [
    "##Pie chart¿?"
   ]
  },
  {
   "cell_type": "code",
   "execution_count": 30,
   "metadata": {
    "id": "W1mCn_ZVuCkw"
   },
   "outputs": [],
   "source": [
    "#####################3"
   ]
  },
  {
   "cell_type": "code",
   "execution_count": 31,
   "metadata": {
    "id": "vhG4yAgxt7R2"
   },
   "outputs": [],
   "source": [
    "#Obtain number of bathrooms and if they are shared"
   ]
  },
  {
   "cell_type": "code",
   "execution_count": 32,
   "metadata": {
    "colab": {
     "base_uri": "https://localhost:8080/"
    },
    "id": "ifSmKr2kt4ZA",
    "outputId": "60135bed-071b-4bd5-c3dd-89db53c493fb"
   },
   "outputs": [
    {
     "data": {
      "text/plain": [
       "0              1 bath\n",
       "1      2 shared baths\n",
       "2    1.5 shared baths\n",
       "3             2 baths\n",
       "4    1.5 shared baths\n",
       "Name: bathrooms_text, dtype: object"
      ]
     },
     "execution_count": 32,
     "metadata": {},
     "output_type": "execute_result"
    }
   ],
   "source": [
    "listing[\"bathrooms_text\"].head()"
   ]
  },
  {
   "cell_type": "code",
   "execution_count": 33,
   "metadata": {
    "colab": {
     "base_uri": "https://localhost:8080/"
    },
    "id": "SPXoVpdswWrk",
    "outputId": "9af4fcc6-98a0-414d-d6be-ae418e3d712a"
   },
   "outputs": [
    {
     "data": {
      "text/plain": [
       "0       1.0\n",
       "1       2.0\n",
       "2       1.5\n",
       "3       2.0\n",
       "4       1.5\n",
       "       ... \n",
       "8476    2.0\n",
       "8477    1.0\n",
       "8478    1.0\n",
       "8479    1.0\n",
       "8480    3.0\n",
       "Name: nb_bathrooms, Length: 8481, dtype: float64"
      ]
     },
     "execution_count": 33,
     "metadata": {},
     "output_type": "execute_result"
    }
   ],
   "source": [
    "listing[\"nb_bathrooms\"]=pd.to_numeric(listing[\"bathrooms_text\"].str.extract(\"^(\\d+\\.?\\d*)\\s\",expand= False))\n",
    "listing[\"nb_bathrooms\"]"
   ]
  },
  {
   "cell_type": "code",
   "execution_count": 34,
   "metadata": {
    "colab": {
     "base_uri": "https://localhost:8080/"
    },
    "id": "kYJhNvuWymtI",
    "outputId": "0349e7ca-9db8-4a80-8d90-5ece14862992"
   },
   "outputs": [
    {
     "data": {
      "text/plain": [
       "0       False\n",
       "1        True\n",
       "2        True\n",
       "3       False\n",
       "4        True\n",
       "        ...  \n",
       "8476    False\n",
       "8477    False\n",
       "8478    False\n",
       "8479    False\n",
       "8480    False\n",
       "Name: bathroom_is_shared, Length: 8481, dtype: object"
      ]
     },
     "execution_count": 34,
     "metadata": {},
     "output_type": "execute_result"
    }
   ],
   "source": [
    "listing[\"bathroom_is_shared\"]= listing[\"bathrooms_text\"].str.contains(\"shared\")\n",
    "listing[\"bathroom_is_shared\"]"
   ]
  },
  {
   "cell_type": "code",
   "execution_count": 35,
   "metadata": {
    "colab": {
     "base_uri": "https://localhost:8080/"
    },
    "id": "iiO6W2Z9zK5y",
    "outputId": "7420e824-56df-4499-f97d-124dcc1c953d"
   },
   "outputs": [
    {
     "name": "stdout",
     "output_type": "stream",
     "text": [
      "<class 'pandas.core.frame.DataFrame'>\n",
      "RangeIndex: 8481 entries, 0 to 8480\n",
      "Data columns (total 77 columns):\n",
      " #   Column                                        Non-Null Count  Dtype  \n",
      "---  ------                                        --------------  -----  \n",
      " 0   id                                            8481 non-null   int64  \n",
      " 1   listing_url                                   8481 non-null   object \n",
      " 2   scrape_id                                     8481 non-null   int64  \n",
      " 3   last_scraped                                  8481 non-null   object \n",
      " 4   source                                        8481 non-null   object \n",
      " 5   name                                          8481 non-null   object \n",
      " 6   description                                   8468 non-null   object \n",
      " 7   neighborhood_overview                         4401 non-null   object \n",
      " 8   picture_url                                   8481 non-null   object \n",
      " 9   host_id                                       8481 non-null   int64  \n",
      " 10  host_url                                      8481 non-null   object \n",
      " 11  host_name                                     8481 non-null   object \n",
      " 12  host_since                                    8481 non-null   object \n",
      " 13  host_location                                 6614 non-null   object \n",
      " 14  host_about                                    4941 non-null   object \n",
      " 15  host_response_time                            7764 non-null   object \n",
      " 16  host_response_rate                            7764 non-null   object \n",
      " 17  host_acceptance_rate                          7995 non-null   object \n",
      " 18  host_is_superhost                             8481 non-null   object \n",
      " 19  host_thumbnail_url                            8481 non-null   object \n",
      " 20  host_picture_url                              8481 non-null   object \n",
      " 21  host_neighbourhood                            696 non-null    object \n",
      " 22  host_listings_count                           8481 non-null   int64  \n",
      " 23  host_total_listings_count                     8481 non-null   int64  \n",
      " 24  host_verifications                            8481 non-null   object \n",
      " 25  host_has_profile_pic                          8481 non-null   object \n",
      " 26  host_identity_verified                        8481 non-null   object \n",
      " 27  neighbourhood                                 4401 non-null   object \n",
      " 28  neighbourhood_cleansed                        8481 non-null   object \n",
      " 29  neighbourhood_group_cleansed                  0 non-null      float64\n",
      " 30  latitude                                      8481 non-null   float64\n",
      " 31  longitude                                     8481 non-null   float64\n",
      " 32  property_type                                 8481 non-null   object \n",
      " 33  room_type                                     8481 non-null   object \n",
      " 34  accommodates                                  8481 non-null   int64  \n",
      " 35  bathrooms                                     0 non-null      float64\n",
      " 36  bathrooms_text                                8480 non-null   object \n",
      " 37  bedrooms                                      7448 non-null   float64\n",
      " 38  beds                                          8441 non-null   float64\n",
      " 39  amenities                                     8481 non-null   object \n",
      " 40  price                                         8481 non-null   object \n",
      " 41  minimum_nights                                8481 non-null   int64  \n",
      " 42  maximum_nights                                8481 non-null   int64  \n",
      " 43  minimum_minimum_nights                        8481 non-null   int64  \n",
      " 44  maximum_minimum_nights                        8481 non-null   int64  \n",
      " 45  minimum_maximum_nights                        8481 non-null   int64  \n",
      " 46  maximum_maximum_nights                        8481 non-null   int64  \n",
      " 47  minimum_nights_avg_ntm                        8481 non-null   float64\n",
      " 48  maximum_nights_avg_ntm                        8481 non-null   float64\n",
      " 49  calendar_updated                              0 non-null      float64\n",
      " 50  has_availability                              8481 non-null   object \n",
      " 51  availability_30                               8481 non-null   int64  \n",
      " 52  availability_60                               8481 non-null   int64  \n",
      " 53  availability_90                               8481 non-null   int64  \n",
      " 54  availability_365                              8481 non-null   int64  \n",
      " 55  calendar_last_scraped                         8481 non-null   object \n",
      " 56  number_of_reviews                             8481 non-null   int64  \n",
      " 57  number_of_reviews_ltm                         8481 non-null   int64  \n",
      " 58  number_of_reviews_l30d                        8481 non-null   int64  \n",
      " 59  first_review                                  7264 non-null   object \n",
      " 60  last_review                                   7264 non-null   object \n",
      " 61  review_scores_rating                          7264 non-null   float64\n",
      " 62  review_scores_accuracy                        7257 non-null   float64\n",
      " 63  review_scores_cleanliness                     7257 non-null   float64\n",
      " 64  review_scores_checkin                         7257 non-null   float64\n",
      " 65  review_scores_communication                   7257 non-null   float64\n",
      " 66  review_scores_location                        7257 non-null   float64\n",
      " 67  review_scores_value                           7257 non-null   float64\n",
      " 68  license                                       8310 non-null   object \n",
      " 69  instant_bookable                              8481 non-null   object \n",
      " 70  calculated_host_listings_count                8481 non-null   int64  \n",
      " 71  calculated_host_listings_count_entire_homes   8481 non-null   int64  \n",
      " 72  calculated_host_listings_count_private_rooms  8481 non-null   int64  \n",
      " 73  calculated_host_listings_count_shared_rooms   8481 non-null   int64  \n",
      " 74  reviews_per_month                             7264 non-null   float64\n",
      " 75  nb_bathrooms                                  8475 non-null   float64\n",
      " 76  bathroom_is_shared                            8480 non-null   object \n",
      "dtypes: float64(18), int64(23), object(36)\n",
      "memory usage: 5.0+ MB\n"
     ]
    }
   ],
   "source": [
    "listing.info()"
   ]
  },
  {
   "cell_type": "code",
   "execution_count": 36,
   "metadata": {
    "colab": {
     "base_uri": "https://localhost:8080/",
     "height": 297
    },
    "id": "vvSOnnQjzSkB",
    "outputId": "b473203e-f98e-4075-ee48-f7a498030777"
   },
   "outputs": [
    {
     "data": {
      "text/plain": [
       "<AxesSubplot:xlabel='bathroom_is_shared', ylabel='review_scores_rating'>"
      ]
     },
     "execution_count": 36,
     "metadata": {},
     "output_type": "execute_result"
    },
    {
     "data": {
      "image/png": "[encoded data removed]",
      "text/plain": [
       "<Figure size 640x480 with 1 Axes>"
      ]
     },
     "metadata": {},
     "output_type": "display_data"
    }
   ],
   "source": [
    "sns.boxplot(data=listing, y=\"review_scores_rating\", x= \"bathroom_is_shared\", hue= \"bathroom_is_shared\")"
   ]
  },
  {
   "cell_type": "code",
   "execution_count": 37,
   "metadata": {
    "colab": {
     "base_uri": "https://localhost:8080/",
     "height": 299
    },
    "id": "OJZP3_4s0O2x",
    "outputId": "bedeb2d5-9e63-4ede-a4e1-8c69314c54b3"
   },
   "outputs": [
    {
     "data": {
      "text/plain": [
       "<AxesSubplot:xlabel='review_scores_rating', ylabel='Percent'>"
      ]
     },
     "execution_count": 37,
     "metadata": {},
     "output_type": "execute_result"
    },
    {
     "data": {
      "image/png": "[encoded data removed]",
      "text/plain": [
       "<Figure size 640x480 with 1 Axes>"
      ]
     },
     "metadata": {},
     "output_type": "display_data"
    }
   ],
   "source": [
    "sns.histplot(data=listing, x=\"review_scores_rating\", bins=10, stat =\"percent\")"
   ]
  },
  {
   "cell_type": "code",
   "execution_count": 38,
   "metadata": {
    "id": "GzKRA7Z21GW8"
   },
   "outputs": [],
   "source": [
    "##According to listing, almost all the places are rated between 4 and 5 stars.\n",
    "#Check the review dataframe"
   ]
  },
  {
   "cell_type": "code",
   "execution_count": 39,
   "metadata": {
    "colab": {
     "base_uri": "https://localhost:8080/"
    },
    "id": "c_7xzMiE1dpw",
    "outputId": "e21104a6-1bec-405d-d637-4a0e6dc03ea6"
   },
   "outputs": [
    {
     "name": "stdout",
     "output_type": "stream",
     "text": [
      "<class 'pandas.core.frame.DataFrame'>\n",
      "RangeIndex: 283187 entries, 0 to 283186\n",
      "Data columns (total 6 columns):\n",
      " #   Column         Non-Null Count   Dtype \n",
      "---  ------         --------------   ----- \n",
      " 0   listing_id     283187 non-null  int64 \n",
      " 1   id             283187 non-null  int64 \n",
      " 2   date           283187 non-null  object\n",
      " 3   reviewer_id    283187 non-null  int64 \n",
      " 4   reviewer_name  283187 non-null  object\n",
      " 5   comments       283179 non-null  object\n",
      "dtypes: int64(3), object(3)\n",
      "memory usage: 13.0+ MB\n"
     ]
    }
   ],
   "source": [
    "reviews.info()"
   ]
  },
  {
   "cell_type": "code",
   "execution_count": 40,
   "metadata": {
    "colab": {
     "base_uri": "https://localhost:8080/"
    },
    "id": "M_Vm6jCh1h2r",
    "outputId": "0a0b801f-1115-49f5-dfe9-04e8d2f3d63b"
   },
   "outputs": [
    {
     "data": {
      "text/plain": [
       "0         My stay at the apartment of Adriana and Rafa w...\n",
       "1         The flat was perfect for our holiday in Malaga...\n",
       "2         The reservation was canceled 8 days before arr...\n",
       "3         El piso esta muy lindo y comido :) No había in...\n",
       "4         We had some trouble finding the appartment at ...\n",
       "                                ...                        \n",
       "283182    Все соответсвует описанию. Расположение отличн...\n",
       "283183                                                 Bien\n",
       "283184    Recomiendo elegir esta estancia siendo conscie...\n",
       "283185    I was looking for a place close to Malaga airp...\n",
       "283186    Great location. Apartment reflects pictures. V...\n",
       "Name: comments, Length: 283187, dtype: object"
      ]
     },
     "execution_count": 40,
     "metadata": {},
     "output_type": "execute_result"
    }
   ],
   "source": [
    "reviews[\"comments\"]"
   ]
  },
  {
   "cell_type": "code",
   "execution_count": 41,
   "metadata": {
    "id": "Dxb4oKyi1sHB"
   },
   "outputs": [],
   "source": [
    "#It is not possible to match"
   ]
  },
  {
   "cell_type": "code",
   "execution_count": 42,
   "metadata": {
    "id": "VBQ2R48p1Cra"
   },
   "outputs": [],
   "source": [
    "#To see how sucessful is a place.\n",
    "#1) Number of nights already booked\n",
    "#2) Number of reviews"
   ]
  },
  {
   "cell_type": "code",
   "execution_count": 43,
   "metadata": {
    "colab": {
     "base_uri": "https://localhost:8080/",
     "height": 455
    },
    "id": "cXczjWih0-8Z",
    "outputId": "085ab085-f9d2-434f-b088-1ba0e9962795"
   },
   "outputs": [
    {
     "data": {
      "text/html": [
       "<div>\n",
       "<style scoped>\n",
       "    .dataframe tbody tr th:only-of-type {\n",
       "        vertical-align: middle;\n",
       "    }\n",
       "\n",
       "    .dataframe tbody tr th {\n",
       "        vertical-align: top;\n",
       "    }\n",
       "\n",
       "    .dataframe thead th {\n",
       "        text-align: right;\n",
       "    }\n",
       "</style>\n",
       "<table border=\"1\" class=\"dataframe\">\n",
       "  <thead>\n",
       "    <tr style=\"text-align: right;\">\n",
       "      <th></th>\n",
       "      <th>listing_id</th>\n",
       "      <th>reviews_per_listing</th>\n",
       "    </tr>\n",
       "  </thead>\n",
       "  <tbody>\n",
       "    <tr>\n",
       "      <th>0</th>\n",
       "      <td>10802138</td>\n",
       "      <td>741</td>\n",
       "    </tr>\n",
       "    <tr>\n",
       "      <th>1</th>\n",
       "      <td>2343063</td>\n",
       "      <td>720</td>\n",
       "    </tr>\n",
       "    <tr>\n",
       "      <th>2</th>\n",
       "      <td>2336145</td>\n",
       "      <td>627</td>\n",
       "    </tr>\n",
       "    <tr>\n",
       "      <th>3</th>\n",
       "      <td>30141259</td>\n",
       "      <td>586</td>\n",
       "    </tr>\n",
       "    <tr>\n",
       "      <th>4</th>\n",
       "      <td>18369830</td>\n",
       "      <td>506</td>\n",
       "    </tr>\n",
       "    <tr>\n",
       "      <th>...</th>\n",
       "      <td>...</td>\n",
       "      <td>...</td>\n",
       "    </tr>\n",
       "    <tr>\n",
       "      <th>7259</th>\n",
       "      <td>576658091225693763</td>\n",
       "      <td>1</td>\n",
       "    </tr>\n",
       "    <tr>\n",
       "      <th>7260</th>\n",
       "      <td>578222781238635203</td>\n",
       "      <td>1</td>\n",
       "    </tr>\n",
       "    <tr>\n",
       "      <th>7261</th>\n",
       "      <td>579484204761152692</td>\n",
       "      <td>1</td>\n",
       "    </tr>\n",
       "    <tr>\n",
       "      <th>7262</th>\n",
       "      <td>579556109687702640</td>\n",
       "      <td>1</td>\n",
       "    </tr>\n",
       "    <tr>\n",
       "      <th>7263</th>\n",
       "      <td>721366762985631453</td>\n",
       "      <td>1</td>\n",
       "    </tr>\n",
       "  </tbody>\n",
       "</table>\n",
       "<p>7264 rows × 2 columns</p>\n",
       "</div>"
      ],
      "text/plain": [
       "              listing_id  reviews_per_listing\n",
       "0               10802138                  741\n",
       "1                2343063                  720\n",
       "2                2336145                  627\n",
       "3               30141259                  586\n",
       "4               18369830                  506\n",
       "...                  ...                  ...\n",
       "7259  576658091225693763                    1\n",
       "7260  578222781238635203                    1\n",
       "7261  579484204761152692                    1\n",
       "7262  579556109687702640                    1\n",
       "7263  721366762985631453                    1\n",
       "\n",
       "[7264 rows x 2 columns]"
      ]
     },
     "execution_count": 43,
     "metadata": {},
     "output_type": "execute_result"
    }
   ],
   "source": [
    "reviews_per_listing = reviews[[\"listing_id\",\"id\"]].\\\n",
    "                                                    groupby(\"listing_id\").\\\n",
    "                                                    count().\\\n",
    "                                                    rename(columns={\"id\":\"reviews_per_listing\"}).\\\n",
    "                                                    sort_values(by=\"reviews_per_listing\", ascending= False).\\\n",
    "                                                    reset_index()\n",
    "reviews_per_listing"
   ]
  },
  {
   "cell_type": "code",
   "execution_count": null,
   "metadata": {},
   "outputs": [],
   "source": []
  },
  {
   "cell_type": "code",
   "execution_count": 44,
   "metadata": {},
   "outputs": [
    {
     "data": {
      "text/plain": [
       "<AxesSubplot:xlabel='reviews_per_listing', ylabel='Percent'>"
      ]
     },
     "execution_count": 44,
     "metadata": {},
     "output_type": "execute_result"
    },
    {
     "data": {
      "image/png": "[encoded data removed]",
      "text/plain": [
       "<Figure size 640x480 with 1 Axes>"
      ]
     },
     "metadata": {},
     "output_type": "display_data"
    }
   ],
   "source": [
    "sns.histplot(data=reviews_per_listing,x=\"reviews_per_listing\",bins=np.arange(0,900,10),stat='percent')"
   ]
  },
  {
   "cell_type": "code",
   "execution_count": 45,
   "metadata": {},
   "outputs": [
    {
     "data": {
      "text/plain": [
       "False    7264\n",
       "dtype: int64"
      ]
     },
     "execution_count": 45,
     "metadata": {},
     "output_type": "execute_result"
    }
   ],
   "source": [
    "#Check that listing id is unique (to avoid strange things when joining). Unnecesary due to group by\n",
    "reviews_per_listing.index.to_series().duplicated().value_counts()"
   ]
  },
  {
   "cell_type": "code",
   "execution_count": null,
   "metadata": {},
   "outputs": [],
   "source": []
  },
  {
   "cell_type": "code",
   "execution_count": 46,
   "metadata": {},
   "outputs": [
    {
     "data": {
      "text/html": [
       "<div>\n",
       "<style scoped>\n",
       "    .dataframe tbody tr th:only-of-type {\n",
       "        vertical-align: middle;\n",
       "    }\n",
       "\n",
       "    .dataframe tbody tr th {\n",
       "        vertical-align: top;\n",
       "    }\n",
       "\n",
       "    .dataframe thead th {\n",
       "        text-align: right;\n",
       "    }\n",
       "</style>\n",
       "<table border=\"1\" class=\"dataframe\">\n",
       "  <thead>\n",
       "    <tr style=\"text-align: right;\">\n",
       "      <th></th>\n",
       "      <th>id</th>\n",
       "      <th>listing_url</th>\n",
       "      <th>scrape_id</th>\n",
       "      <th>last_scraped</th>\n",
       "      <th>source</th>\n",
       "      <th>name</th>\n",
       "      <th>description</th>\n",
       "      <th>neighborhood_overview</th>\n",
       "      <th>picture_url</th>\n",
       "      <th>host_id</th>\n",
       "      <th>...</th>\n",
       "      <th>instant_bookable</th>\n",
       "      <th>calculated_host_listings_count</th>\n",
       "      <th>calculated_host_listings_count_entire_homes</th>\n",
       "      <th>calculated_host_listings_count_private_rooms</th>\n",
       "      <th>calculated_host_listings_count_shared_rooms</th>\n",
       "      <th>reviews_per_month</th>\n",
       "      <th>nb_bathrooms</th>\n",
       "      <th>bathroom_is_shared</th>\n",
       "      <th>listing_id</th>\n",
       "      <th>reviews_per_listing</th>\n",
       "    </tr>\n",
       "  </thead>\n",
       "  <tbody>\n",
       "    <tr>\n",
       "      <th>0</th>\n",
       "      <td>96033</td>\n",
       "      <td>https://www.airbnb.com/rooms/96033</td>\n",
       "      <td>20220928234716</td>\n",
       "      <td>2022-09-29</td>\n",
       "      <td>city scrape</td>\n",
       "      <td>* Cosy flat 200m from the beach, El Palo/Malaga *</td>\n",
       "      <td>Bonito piso de 2 dormitorios a 200m de la play...</td>\n",
       "      <td>A 200 metros de las playas de El Palo, antiguo...</td>\n",
       "      <td>https://a0.muscache.com/pictures/32780788/e487...</td>\n",
       "      <td>510467</td>\n",
       "      <td>...</td>\n",
       "      <td>f</td>\n",
       "      <td>1</td>\n",
       "      <td>1</td>\n",
       "      <td>0</td>\n",
       "      <td>0</td>\n",
       "      <td>1.41</td>\n",
       "      <td>1.0</td>\n",
       "      <td>False</td>\n",
       "      <td>96033.0</td>\n",
       "      <td>154.0</td>\n",
       "    </tr>\n",
       "    <tr>\n",
       "      <th>1</th>\n",
       "      <td>166473</td>\n",
       "      <td>https://www.airbnb.com/rooms/166473</td>\n",
       "      <td>20220928234716</td>\n",
       "      <td>2022-09-29</td>\n",
       "      <td>city scrape</td>\n",
       "      <td>Perfect Location In Malaga</td>\n",
       "      <td>This apartment is rented out by the room - new...</td>\n",
       "      <td>NaN</td>\n",
       "      <td>https://a0.muscache.com/pictures/miso/Hosting-...</td>\n",
       "      <td>793360</td>\n",
       "      <td>...</td>\n",
       "      <td>f</td>\n",
       "      <td>4</td>\n",
       "      <td>0</td>\n",
       "      <td>4</td>\n",
       "      <td>0</td>\n",
       "      <td>0.63</td>\n",
       "      <td>2.0</td>\n",
       "      <td>True</td>\n",
       "      <td>166473.0</td>\n",
       "      <td>85.0</td>\n",
       "    </tr>\n",
       "    <tr>\n",
       "      <th>2</th>\n",
       "      <td>212845</td>\n",
       "      <td>https://www.airbnb.com/rooms/212845</td>\n",
       "      <td>20220928234716</td>\n",
       "      <td>2022-09-29</td>\n",
       "      <td>city scrape</td>\n",
       "      <td>BEAUTIFUL DOUBLE ROOM IN MALAGA</td>\n",
       "      <td>Beautifull double room with  toilet, in Malaga...</td>\n",
       "      <td>NaN</td>\n",
       "      <td>https://a0.muscache.com/pictures/d4a19330-03c4...</td>\n",
       "      <td>617998</td>\n",
       "      <td>...</td>\n",
       "      <td>f</td>\n",
       "      <td>2</td>\n",
       "      <td>0</td>\n",
       "      <td>1</td>\n",
       "      <td>1</td>\n",
       "      <td>0.31</td>\n",
       "      <td>1.5</td>\n",
       "      <td>True</td>\n",
       "      <td>212845.0</td>\n",
       "      <td>40.0</td>\n",
       "    </tr>\n",
       "    <tr>\n",
       "      <th>3</th>\n",
       "      <td>229511</td>\n",
       "      <td>https://www.airbnb.com/rooms/229511</td>\n",
       "      <td>20220928234716</td>\n",
       "      <td>2022-09-29</td>\n",
       "      <td>city scrape</td>\n",
       "      <td>MOUNTAIN VILLA WITH SEAVIEWS - PRIVATE POOL</td>\n",
       "      <td>Country house in rural Provencal style.&lt;br /&gt;&lt;...</td>\n",
       "      <td>Country house next to Natural park, just  25 m...</td>\n",
       "      <td>https://a0.muscache.com/pictures/2102051/2743a...</td>\n",
       "      <td>1198693</td>\n",
       "      <td>...</td>\n",
       "      <td>f</td>\n",
       "      <td>2</td>\n",
       "      <td>2</td>\n",
       "      <td>0</td>\n",
       "      <td>0</td>\n",
       "      <td>0.06</td>\n",
       "      <td>2.0</td>\n",
       "      <td>False</td>\n",
       "      <td>229511.0</td>\n",
       "      <td>4.0</td>\n",
       "    </tr>\n",
       "    <tr>\n",
       "      <th>4</th>\n",
       "      <td>330760</td>\n",
       "      <td>https://www.airbnb.com/rooms/330760</td>\n",
       "      <td>20220928234716</td>\n",
       "      <td>2022-09-29</td>\n",
       "      <td>city scrape</td>\n",
       "      <td>Malaga Lodge Guesthouse Double room-shared bath.</td>\n",
       "      <td>The Lodge is set in a charming town house in L...</td>\n",
       "      <td>Málaga Lodge is situated next to the famous Sa...</td>\n",
       "      <td>https://a0.muscache.com/pictures/85419390/38a9...</td>\n",
       "      <td>1687526</td>\n",
       "      <td>...</td>\n",
       "      <td>t</td>\n",
       "      <td>3</td>\n",
       "      <td>1</td>\n",
       "      <td>2</td>\n",
       "      <td>0</td>\n",
       "      <td>0.36</td>\n",
       "      <td>1.5</td>\n",
       "      <td>True</td>\n",
       "      <td>330760.0</td>\n",
       "      <td>47.0</td>\n",
       "    </tr>\n",
       "    <tr>\n",
       "      <th>...</th>\n",
       "      <td>...</td>\n",
       "      <td>...</td>\n",
       "      <td>...</td>\n",
       "      <td>...</td>\n",
       "      <td>...</td>\n",
       "      <td>...</td>\n",
       "      <td>...</td>\n",
       "      <td>...</td>\n",
       "      <td>...</td>\n",
       "      <td>...</td>\n",
       "      <td>...</td>\n",
       "      <td>...</td>\n",
       "      <td>...</td>\n",
       "      <td>...</td>\n",
       "      <td>...</td>\n",
       "      <td>...</td>\n",
       "      <td>...</td>\n",
       "      <td>...</td>\n",
       "      <td>...</td>\n",
       "      <td>...</td>\n",
       "      <td>...</td>\n",
       "    </tr>\n",
       "    <tr>\n",
       "      <th>8476</th>\n",
       "      <td>50352276</td>\n",
       "      <td>https://www.airbnb.com/rooms/50352276</td>\n",
       "      <td>20220928234716</td>\n",
       "      <td>2022-09-29</td>\n",
       "      <td>previous scrape</td>\n",
       "      <td>Paz, vistas y exclusividad a 5 minutos de la p...</td>\n",
       "      <td>Mi casa es preciosa, es un ático en una zona m...</td>\n",
       "      <td>La Cala del Moral está ubicada a 15 minutos de...</td>\n",
       "      <td>https://a0.muscache.com/pictures/a8ef0ed8-e57f...</td>\n",
       "      <td>406660535</td>\n",
       "      <td>...</td>\n",
       "      <td>t</td>\n",
       "      <td>1</td>\n",
       "      <td>1</td>\n",
       "      <td>0</td>\n",
       "      <td>0</td>\n",
       "      <td>NaN</td>\n",
       "      <td>2.0</td>\n",
       "      <td>False</td>\n",
       "      <td>NaN</td>\n",
       "      <td>NaN</td>\n",
       "    </tr>\n",
       "    <tr>\n",
       "      <th>8477</th>\n",
       "      <td>32705544</td>\n",
       "      <td>https://www.airbnb.com/rooms/32705544</td>\n",
       "      <td>20220928234716</td>\n",
       "      <td>2022-09-29</td>\n",
       "      <td>previous scrape</td>\n",
       "      <td>Precioso Estudio al Lado Del Mar</td>\n",
       "      <td>Adorable estudio bien decorado con todo lo nec...</td>\n",
       "      <td>Playamar está a sólo diez minutos a pie del ce...</td>\n",
       "      <td>https://a0.muscache.com/pictures/6073ccb6-3346...</td>\n",
       "      <td>925118</td>\n",
       "      <td>...</td>\n",
       "      <td>t</td>\n",
       "      <td>6</td>\n",
       "      <td>6</td>\n",
       "      <td>0</td>\n",
       "      <td>0</td>\n",
       "      <td>2.02</td>\n",
       "      <td>1.0</td>\n",
       "      <td>False</td>\n",
       "      <td>32705544.0</td>\n",
       "      <td>87.0</td>\n",
       "    </tr>\n",
       "    <tr>\n",
       "      <th>8478</th>\n",
       "      <td>33294303</td>\n",
       "      <td>https://www.airbnb.com/rooms/33294303</td>\n",
       "      <td>20220928234716</td>\n",
       "      <td>2022-09-29</td>\n",
       "      <td>previous scrape</td>\n",
       "      <td>LUXURY PLAYAMAR BEACH II</td>\n",
       "      <td>Disfruta de este magnifico apartamento junto a...</td>\n",
       "      <td>Ubicación perfecta, pues dispone de la tranqui...</td>\n",
       "      <td>https://a0.muscache.com/pictures/eabafaab-ed76...</td>\n",
       "      <td>72237248</td>\n",
       "      <td>...</td>\n",
       "      <td>t</td>\n",
       "      <td>4</td>\n",
       "      <td>4</td>\n",
       "      <td>0</td>\n",
       "      <td>0</td>\n",
       "      <td>0.41</td>\n",
       "      <td>1.0</td>\n",
       "      <td>False</td>\n",
       "      <td>33294303.0</td>\n",
       "      <td>17.0</td>\n",
       "    </tr>\n",
       "    <tr>\n",
       "      <th>8479</th>\n",
       "      <td>50607554</td>\n",
       "      <td>https://www.airbnb.com/rooms/50607554</td>\n",
       "      <td>20220928234716</td>\n",
       "      <td>2022-09-29</td>\n",
       "      <td>previous scrape</td>\n",
       "      <td>Brisa Torremolinos</td>\n",
       "      <td>Studio-apartment for 4 people at 100 meters fr...</td>\n",
       "      <td>At the Costa del Sol, surrounded by good resta...</td>\n",
       "      <td>https://a0.muscache.com/pictures/prohost-api/H...</td>\n",
       "      <td>183280723</td>\n",
       "      <td>...</td>\n",
       "      <td>f</td>\n",
       "      <td>3</td>\n",
       "      <td>3</td>\n",
       "      <td>0</td>\n",
       "      <td>0</td>\n",
       "      <td>0.10</td>\n",
       "      <td>1.0</td>\n",
       "      <td>False</td>\n",
       "      <td>50607554.0</td>\n",
       "      <td>1.0</td>\n",
       "    </tr>\n",
       "    <tr>\n",
       "      <th>8480</th>\n",
       "      <td>33469519</td>\n",
       "      <td>https://www.airbnb.com/rooms/33469519</td>\n",
       "      <td>20220928234716</td>\n",
       "      <td>2022-09-29</td>\n",
       "      <td>previous scrape</td>\n",
       "      <td>Apto. Costa Lago Playamar</td>\n",
       "      <td>El apto. está en la urbanización Costa Lago, 4...</td>\n",
       "      <td>El apto. está a píe de playa , a 5 minutos de ...</td>\n",
       "      <td>https://a0.muscache.com/pictures/09174df2-5881...</td>\n",
       "      <td>252166628</td>\n",
       "      <td>...</td>\n",
       "      <td>f</td>\n",
       "      <td>1</td>\n",
       "      <td>1</td>\n",
       "      <td>0</td>\n",
       "      <td>0</td>\n",
       "      <td>0.07</td>\n",
       "      <td>3.0</td>\n",
       "      <td>False</td>\n",
       "      <td>33469519.0</td>\n",
       "      <td>3.0</td>\n",
       "    </tr>\n",
       "  </tbody>\n",
       "</table>\n",
       "<p>8481 rows × 79 columns</p>\n",
       "</div>"
      ],
      "text/plain": [
       "            id                            listing_url       scrape_id  \\\n",
       "0        96033     https://www.airbnb.com/rooms/96033  20220928234716   \n",
       "1       166473    https://www.airbnb.com/rooms/166473  20220928234716   \n",
       "2       212845    https://www.airbnb.com/rooms/212845  20220928234716   \n",
       "3       229511    https://www.airbnb.com/rooms/229511  20220928234716   \n",
       "4       330760    https://www.airbnb.com/rooms/330760  20220928234716   \n",
       "...        ...                                    ...             ...   \n",
       "8476  50352276  https://www.airbnb.com/rooms/50352276  20220928234716   \n",
       "8477  32705544  https://www.airbnb.com/rooms/32705544  20220928234716   \n",
       "8478  33294303  https://www.airbnb.com/rooms/33294303  20220928234716   \n",
       "8479  50607554  https://www.airbnb.com/rooms/50607554  20220928234716   \n",
       "8480  33469519  https://www.airbnb.com/rooms/33469519  20220928234716   \n",
       "\n",
       "     last_scraped           source  \\\n",
       "0      2022-09-29      city scrape   \n",
       "1      2022-09-29      city scrape   \n",
       "2      2022-09-29      city scrape   \n",
       "3      2022-09-29      city scrape   \n",
       "4      2022-09-29      city scrape   \n",
       "...           ...              ...   \n",
       "8476   2022-09-29  previous scrape   \n",
       "8477   2022-09-29  previous scrape   \n",
       "8478   2022-09-29  previous scrape   \n",
       "8479   2022-09-29  previous scrape   \n",
       "8480   2022-09-29  previous scrape   \n",
       "\n",
       "                                                   name  \\\n",
       "0     * Cosy flat 200m from the beach, El Palo/Malaga *   \n",
       "1                            Perfect Location In Malaga   \n",
       "2                       BEAUTIFUL DOUBLE ROOM IN MALAGA   \n",
       "3           MOUNTAIN VILLA WITH SEAVIEWS - PRIVATE POOL   \n",
       "4      Malaga Lodge Guesthouse Double room-shared bath.   \n",
       "...                                                 ...   \n",
       "8476  Paz, vistas y exclusividad a 5 minutos de la p...   \n",
       "8477                   Precioso Estudio al Lado Del Mar   \n",
       "8478                           LUXURY PLAYAMAR BEACH II   \n",
       "8479                                 Brisa Torremolinos   \n",
       "8480                          Apto. Costa Lago Playamar   \n",
       "\n",
       "                                            description  \\\n",
       "0     Bonito piso de 2 dormitorios a 200m de la play...   \n",
       "1     This apartment is rented out by the room - new...   \n",
       "2     Beautifull double room with  toilet, in Malaga...   \n",
       "3     Country house in rural Provencal style.<br /><...   \n",
       "4     The Lodge is set in a charming town house in L...   \n",
       "...                                                 ...   \n",
       "8476  Mi casa es preciosa, es un ático en una zona m...   \n",
       "8477  Adorable estudio bien decorado con todo lo nec...   \n",
       "8478  Disfruta de este magnifico apartamento junto a...   \n",
       "8479  Studio-apartment for 4 people at 100 meters fr...   \n",
       "8480  El apto. está en la urbanización Costa Lago, 4...   \n",
       "\n",
       "                                  neighborhood_overview  \\\n",
       "0     A 200 metros de las playas de El Palo, antiguo...   \n",
       "1                                                   NaN   \n",
       "2                                                   NaN   \n",
       "3     Country house next to Natural park, just  25 m...   \n",
       "4     Málaga Lodge is situated next to the famous Sa...   \n",
       "...                                                 ...   \n",
       "8476  La Cala del Moral está ubicada a 15 minutos de...   \n",
       "8477  Playamar está a sólo diez minutos a pie del ce...   \n",
       "8478  Ubicación perfecta, pues dispone de la tranqui...   \n",
       "8479  At the Costa del Sol, surrounded by good resta...   \n",
       "8480  El apto. está a píe de playa , a 5 minutos de ...   \n",
       "\n",
       "                                            picture_url    host_id  ...  \\\n",
       "0     https://a0.muscache.com/pictures/32780788/e487...     510467  ...   \n",
       "1     https://a0.muscache.com/pictures/miso/Hosting-...     793360  ...   \n",
       "2     https://a0.muscache.com/pictures/d4a19330-03c4...     617998  ...   \n",
       "3     https://a0.muscache.com/pictures/2102051/2743a...    1198693  ...   \n",
       "4     https://a0.muscache.com/pictures/85419390/38a9...    1687526  ...   \n",
       "...                                                 ...        ...  ...   \n",
       "8476  https://a0.muscache.com/pictures/a8ef0ed8-e57f...  406660535  ...   \n",
       "8477  https://a0.muscache.com/pictures/6073ccb6-3346...     925118  ...   \n",
       "8478  https://a0.muscache.com/pictures/eabafaab-ed76...   72237248  ...   \n",
       "8479  https://a0.muscache.com/pictures/prohost-api/H...  183280723  ...   \n",
       "8480  https://a0.muscache.com/pictures/09174df2-5881...  252166628  ...   \n",
       "\n",
       "     instant_bookable calculated_host_listings_count  \\\n",
       "0                   f                              1   \n",
       "1                   f                              4   \n",
       "2                   f                              2   \n",
       "3                   f                              2   \n",
       "4                   t                              3   \n",
       "...               ...                            ...   \n",
       "8476                t                              1   \n",
       "8477                t                              6   \n",
       "8478                t                              4   \n",
       "8479                f                              3   \n",
       "8480                f                              1   \n",
       "\n",
       "     calculated_host_listings_count_entire_homes  \\\n",
       "0                                              1   \n",
       "1                                              0   \n",
       "2                                              0   \n",
       "3                                              2   \n",
       "4                                              1   \n",
       "...                                          ...   \n",
       "8476                                           1   \n",
       "8477                                           6   \n",
       "8478                                           4   \n",
       "8479                                           3   \n",
       "8480                                           1   \n",
       "\n",
       "     calculated_host_listings_count_private_rooms  \\\n",
       "0                                               0   \n",
       "1                                               4   \n",
       "2                                               1   \n",
       "3                                               0   \n",
       "4                                               2   \n",
       "...                                           ...   \n",
       "8476                                            0   \n",
       "8477                                            0   \n",
       "8478                                            0   \n",
       "8479                                            0   \n",
       "8480                                            0   \n",
       "\n",
       "     calculated_host_listings_count_shared_rooms reviews_per_month  \\\n",
       "0                                              0              1.41   \n",
       "1                                              0              0.63   \n",
       "2                                              1              0.31   \n",
       "3                                              0              0.06   \n",
       "4                                              0              0.36   \n",
       "...                                          ...               ...   \n",
       "8476                                           0               NaN   \n",
       "8477                                           0              2.02   \n",
       "8478                                           0              0.41   \n",
       "8479                                           0              0.10   \n",
       "8480                                           0              0.07   \n",
       "\n",
       "     nb_bathrooms bathroom_is_shared  listing_id reviews_per_listing  \n",
       "0             1.0              False     96033.0               154.0  \n",
       "1             2.0               True    166473.0                85.0  \n",
       "2             1.5               True    212845.0                40.0  \n",
       "3             2.0              False    229511.0                 4.0  \n",
       "4             1.5               True    330760.0                47.0  \n",
       "...           ...                ...         ...                 ...  \n",
       "8476          2.0              False         NaN                 NaN  \n",
       "8477          1.0              False  32705544.0                87.0  \n",
       "8478          1.0              False  33294303.0                17.0  \n",
       "8479          1.0              False  50607554.0                 1.0  \n",
       "8480          3.0              False  33469519.0                 3.0  \n",
       "\n",
       "[8481 rows x 79 columns]"
      ]
     },
     "execution_count": 46,
     "metadata": {},
     "output_type": "execute_result"
    }
   ],
   "source": [
    "listing.merge(right=reviews_per_listing, how=\"left\", left_on=\"id\", right_on=\"listing_id\")"
   ]
  },
  {
   "cell_type": "code",
   "execution_count": 47,
   "metadata": {},
   "outputs": [
    {
     "data": {
      "text/html": [
       "<div>\n",
       "<style scoped>\n",
       "    .dataframe tbody tr th:only-of-type {\n",
       "        vertical-align: middle;\n",
       "    }\n",
       "\n",
       "    .dataframe tbody tr th {\n",
       "        vertical-align: top;\n",
       "    }\n",
       "\n",
       "    .dataframe thead th {\n",
       "        text-align: right;\n",
       "    }\n",
       "</style>\n",
       "<table border=\"1\" class=\"dataframe\">\n",
       "  <thead>\n",
       "    <tr style=\"text-align: right;\">\n",
       "      <th></th>\n",
       "      <th>reviews_per_month</th>\n",
       "      <th>nb_bathrooms</th>\n",
       "    </tr>\n",
       "  </thead>\n",
       "  <tbody>\n",
       "    <tr>\n",
       "      <th>reviews_per_month</th>\n",
       "      <td>1.000000</td>\n",
       "      <td>-0.083938</td>\n",
       "    </tr>\n",
       "    <tr>\n",
       "      <th>nb_bathrooms</th>\n",
       "      <td>-0.083938</td>\n",
       "      <td>1.000000</td>\n",
       "    </tr>\n",
       "  </tbody>\n",
       "</table>\n",
       "</div>"
      ],
      "text/plain": [
       "                   reviews_per_month  nb_bathrooms\n",
       "reviews_per_month           1.000000     -0.083938\n",
       "nb_bathrooms               -0.083938      1.000000"
      ]
     },
     "execution_count": 47,
     "metadata": {},
     "output_type": "execute_result"
    }
   ],
   "source": [
    "listing[[\"reviews_per_month\",\"nb_bathrooms\"]].corr()"
   ]
  },
  {
   "cell_type": "code",
   "execution_count": 48,
   "metadata": {},
   "outputs": [
    {
     "name": "stdout",
     "output_type": "stream",
     "text": [
      "<class 'pandas.core.frame.DataFrame'>\n",
      "RangeIndex: 3095565 entries, 0 to 3095564\n",
      "Data columns (total 8 columns):\n",
      " #   Column          Dtype         \n",
      "---  ------          -----         \n",
      " 0   listing_id      int64         \n",
      " 1   date            object        \n",
      " 2   available       object        \n",
      " 3   price           object        \n",
      " 4   adjusted_price  object        \n",
      " 5   minimum_nights  int64         \n",
      " 6   maximum_nights  int64         \n",
      " 7   date_timestamp  datetime64[ns]\n",
      "dtypes: datetime64[ns](1), int64(3), object(4)\n",
      "memory usage: 188.9+ MB\n"
     ]
    }
   ],
   "source": [
    "calendar.info()"
   ]
  },
  {
   "cell_type": "code",
   "execution_count": 49,
   "metadata": {},
   "outputs": [
    {
     "data": {
      "text/html": [
       "<div>\n",
       "<style scoped>\n",
       "    .dataframe tbody tr th:only-of-type {\n",
       "        vertical-align: middle;\n",
       "    }\n",
       "\n",
       "    .dataframe tbody tr th {\n",
       "        vertical-align: top;\n",
       "    }\n",
       "\n",
       "    .dataframe thead th {\n",
       "        text-align: right;\n",
       "    }\n",
       "</style>\n",
       "<table border=\"1\" class=\"dataframe\">\n",
       "  <thead>\n",
       "    <tr style=\"text-align: right;\">\n",
       "      <th></th>\n",
       "      <th>listing_id</th>\n",
       "      <th>date</th>\n",
       "      <th>available</th>\n",
       "      <th>price</th>\n",
       "      <th>adjusted_price</th>\n",
       "      <th>minimum_nights</th>\n",
       "      <th>maximum_nights</th>\n",
       "      <th>date_timestamp</th>\n",
       "    </tr>\n",
       "  </thead>\n",
       "  <tbody>\n",
       "    <tr>\n",
       "      <th>0</th>\n",
       "      <td>96033</td>\n",
       "      <td>2022-09-29</td>\n",
       "      <td>f</td>\n",
       "      <td>$55.00</td>\n",
       "      <td>$55.00</td>\n",
       "      <td>4</td>\n",
       "      <td>1125</td>\n",
       "      <td>2022-09-29</td>\n",
       "    </tr>\n",
       "    <tr>\n",
       "      <th>1</th>\n",
       "      <td>96033</td>\n",
       "      <td>2022-09-30</td>\n",
       "      <td>f</td>\n",
       "      <td>$55.00</td>\n",
       "      <td>$55.00</td>\n",
       "      <td>4</td>\n",
       "      <td>1125</td>\n",
       "      <td>2022-09-30</td>\n",
       "    </tr>\n",
       "    <tr>\n",
       "      <th>2</th>\n",
       "      <td>96033</td>\n",
       "      <td>2022-10-01</td>\n",
       "      <td>f</td>\n",
       "      <td>$55.00</td>\n",
       "      <td>$55.00</td>\n",
       "      <td>4</td>\n",
       "      <td>1125</td>\n",
       "      <td>2022-10-01</td>\n",
       "    </tr>\n",
       "    <tr>\n",
       "      <th>3</th>\n",
       "      <td>96033</td>\n",
       "      <td>2022-10-02</td>\n",
       "      <td>f</td>\n",
       "      <td>$55.00</td>\n",
       "      <td>$55.00</td>\n",
       "      <td>4</td>\n",
       "      <td>1125</td>\n",
       "      <td>2022-10-02</td>\n",
       "    </tr>\n",
       "    <tr>\n",
       "      <th>4</th>\n",
       "      <td>96033</td>\n",
       "      <td>2022-10-03</td>\n",
       "      <td>f</td>\n",
       "      <td>$55.00</td>\n",
       "      <td>$55.00</td>\n",
       "      <td>4</td>\n",
       "      <td>1125</td>\n",
       "      <td>2022-10-03</td>\n",
       "    </tr>\n",
       "  </tbody>\n",
       "</table>\n",
       "</div>"
      ],
      "text/plain": [
       "   listing_id        date available   price adjusted_price  minimum_nights  \\\n",
       "0       96033  2022-09-29         f  $55.00         $55.00               4   \n",
       "1       96033  2022-09-30         f  $55.00         $55.00               4   \n",
       "2       96033  2022-10-01         f  $55.00         $55.00               4   \n",
       "3       96033  2022-10-02         f  $55.00         $55.00               4   \n",
       "4       96033  2022-10-03         f  $55.00         $55.00               4   \n",
       "\n",
       "   maximum_nights date_timestamp  \n",
       "0            1125     2022-09-29  \n",
       "1            1125     2022-09-30  \n",
       "2            1125     2022-10-01  \n",
       "3            1125     2022-10-02  \n",
       "4            1125     2022-10-03  "
      ]
     },
     "execution_count": 49,
     "metadata": {},
     "output_type": "execute_result"
    }
   ],
   "source": [
    "calendar.head()"
   ]
  },
  {
   "cell_type": "code",
   "execution_count": null,
   "metadata": {},
   "outputs": [],
   "source": []
  },
  {
   "cell_type": "code",
   "execution_count": 50,
   "metadata": {},
   "outputs": [],
   "source": [
    "def dollars_to_numeric (ser):\n",
    "    removed_sp_char = ser.str.extract(pat=\"\\$(.*)\",expand=False)\n",
    "    return pd.to_numeric(removed_sp_char, errors=\"coerce\")"
   ]
  },
  {
   "cell_type": "code",
   "execution_count": null,
   "metadata": {},
   "outputs": [],
   "source": []
  },
  {
   "cell_type": "code",
   "execution_count": null,
   "metadata": {},
   "outputs": [],
   "source": []
  },
  {
   "cell_type": "code",
   "execution_count": 51,
   "metadata": {},
   "outputs": [],
   "source": [
    "calendar = calendar.assign(numeric_adj_price= dollars_to_numeric(calendar.adjusted_price))"
   ]
  },
  {
   "cell_type": "code",
   "execution_count": 52,
   "metadata": {},
   "outputs": [],
   "source": [
    "already_booked=calendar[[\"listing_id\",\"available\",\"numeric_adj_price\"]].query(\"available == 'f'\").groupby(\"listing_id\").agg(\\\n",
    "                                                                                                                       avg_adj_price=pd.NamedAgg(column=\"numeric_adj_price\", aggfunc=\"mean\"),\\\n",
    "                                                                                                                       booked_nights=pd.NamedAgg(column=\"available\", aggfunc=\"count\")\\\n",
    "                                                                                                                      ).sort_values(by=\"booked_nights\", ascending= False)\\\n",
    "                                                                                                                    .reset_index()"
   ]
  },
  {
   "cell_type": "code",
   "execution_count": null,
   "metadata": {},
   "outputs": [],
   "source": []
  },
  {
   "cell_type": "code",
   "execution_count": null,
   "metadata": {},
   "outputs": [],
   "source": []
  },
  {
   "cell_type": "code",
   "execution_count": 53,
   "metadata": {},
   "outputs": [
    {
     "data": {
      "text/html": [
       "<div>\n",
       "<style scoped>\n",
       "    .dataframe tbody tr th:only-of-type {\n",
       "        vertical-align: middle;\n",
       "    }\n",
       "\n",
       "    .dataframe tbody tr th {\n",
       "        vertical-align: top;\n",
       "    }\n",
       "\n",
       "    .dataframe thead th {\n",
       "        text-align: right;\n",
       "    }\n",
       "</style>\n",
       "<table border=\"1\" class=\"dataframe\">\n",
       "  <thead>\n",
       "    <tr style=\"text-align: right;\">\n",
       "      <th></th>\n",
       "      <th>listing_id</th>\n",
       "      <th>avg_adj_price</th>\n",
       "      <th>booked_nights</th>\n",
       "    </tr>\n",
       "  </thead>\n",
       "  <tbody>\n",
       "    <tr>\n",
       "      <th>0</th>\n",
       "      <td>34571853</td>\n",
       "      <td>65.0</td>\n",
       "      <td>365</td>\n",
       "    </tr>\n",
       "    <tr>\n",
       "      <th>1</th>\n",
       "      <td>31299790</td>\n",
       "      <td>98.0</td>\n",
       "      <td>365</td>\n",
       "    </tr>\n",
       "    <tr>\n",
       "      <th>2</th>\n",
       "      <td>14864397</td>\n",
       "      <td>60.0</td>\n",
       "      <td>365</td>\n",
       "    </tr>\n",
       "    <tr>\n",
       "      <th>3</th>\n",
       "      <td>39188866</td>\n",
       "      <td>35.0</td>\n",
       "      <td>365</td>\n",
       "    </tr>\n",
       "    <tr>\n",
       "      <th>4</th>\n",
       "      <td>50386953</td>\n",
       "      <td>200.0</td>\n",
       "      <td>365</td>\n",
       "    </tr>\n",
       "    <tr>\n",
       "      <th>...</th>\n",
       "      <td>...</td>\n",
       "      <td>...</td>\n",
       "      <td>...</td>\n",
       "    </tr>\n",
       "    <tr>\n",
       "      <th>8216</th>\n",
       "      <td>33769894</td>\n",
       "      <td>90.0</td>\n",
       "      <td>1</td>\n",
       "    </tr>\n",
       "    <tr>\n",
       "      <th>8217</th>\n",
       "      <td>620262434808268200</td>\n",
       "      <td>43.0</td>\n",
       "      <td>1</td>\n",
       "    </tr>\n",
       "    <tr>\n",
       "      <th>8218</th>\n",
       "      <td>49583135</td>\n",
       "      <td>106.0</td>\n",
       "      <td>1</td>\n",
       "    </tr>\n",
       "    <tr>\n",
       "      <th>8219</th>\n",
       "      <td>700387795036281853</td>\n",
       "      <td>124.0</td>\n",
       "      <td>1</td>\n",
       "    </tr>\n",
       "    <tr>\n",
       "      <th>8220</th>\n",
       "      <td>559362666029452449</td>\n",
       "      <td>112.0</td>\n",
       "      <td>1</td>\n",
       "    </tr>\n",
       "  </tbody>\n",
       "</table>\n",
       "<p>8221 rows × 3 columns</p>\n",
       "</div>"
      ],
      "text/plain": [
       "              listing_id  avg_adj_price  booked_nights\n",
       "0               34571853           65.0            365\n",
       "1               31299790           98.0            365\n",
       "2               14864397           60.0            365\n",
       "3               39188866           35.0            365\n",
       "4               50386953          200.0            365\n",
       "...                  ...            ...            ...\n",
       "8216            33769894           90.0              1\n",
       "8217  620262434808268200           43.0              1\n",
       "8218            49583135          106.0              1\n",
       "8219  700387795036281853          124.0              1\n",
       "8220  559362666029452449          112.0              1\n",
       "\n",
       "[8221 rows x 3 columns]"
      ]
     },
     "execution_count": 53,
     "metadata": {},
     "output_type": "execute_result"
    }
   ],
   "source": [
    "already_booked"
   ]
  },
  {
   "cell_type": "code",
   "execution_count": null,
   "metadata": {},
   "outputs": [],
   "source": []
  },
  {
   "cell_type": "code",
   "execution_count": 54,
   "metadata": {},
   "outputs": [],
   "source": [
    "##Cruzar booked nights con reviews y ver si tienen correlacion (y con puntuación)"
   ]
  },
  {
   "cell_type": "code",
   "execution_count": 55,
   "metadata": {},
   "outputs": [],
   "source": [
    "listing_ext=(listing.merge(right=already_booked,how=\"left\",left_on=[\"id\"], right_on=\"listing_id\" ))"
   ]
  },
  {
   "cell_type": "code",
   "execution_count": 56,
   "metadata": {},
   "outputs": [
    {
     "data": {
      "text/html": [
       "<div>\n",
       "<style scoped>\n",
       "    .dataframe tbody tr th:only-of-type {\n",
       "        vertical-align: middle;\n",
       "    }\n",
       "\n",
       "    .dataframe tbody tr th {\n",
       "        vertical-align: top;\n",
       "    }\n",
       "\n",
       "    .dataframe thead th {\n",
       "        text-align: right;\n",
       "    }\n",
       "</style>\n",
       "<table border=\"1\" class=\"dataframe\">\n",
       "  <thead>\n",
       "    <tr style=\"text-align: right;\">\n",
       "      <th></th>\n",
       "      <th>review_scores_value</th>\n",
       "      <th>reviews_per_month</th>\n",
       "      <th>booked_nights</th>\n",
       "    </tr>\n",
       "  </thead>\n",
       "  <tbody>\n",
       "    <tr>\n",
       "      <th>review_scores_value</th>\n",
       "      <td>1.000000</td>\n",
       "      <td>0.136229</td>\n",
       "      <td>0.053781</td>\n",
       "    </tr>\n",
       "    <tr>\n",
       "      <th>reviews_per_month</th>\n",
       "      <td>0.136229</td>\n",
       "      <td>1.000000</td>\n",
       "      <td>0.000936</td>\n",
       "    </tr>\n",
       "    <tr>\n",
       "      <th>booked_nights</th>\n",
       "      <td>0.053781</td>\n",
       "      <td>0.000936</td>\n",
       "      <td>1.000000</td>\n",
       "    </tr>\n",
       "  </tbody>\n",
       "</table>\n",
       "</div>"
      ],
      "text/plain": [
       "                     review_scores_value  reviews_per_month  booked_nights\n",
       "review_scores_value             1.000000           0.136229       0.053781\n",
       "reviews_per_month               0.136229           1.000000       0.000936\n",
       "booked_nights                   0.053781           0.000936       1.000000"
      ]
     },
     "execution_count": 56,
     "metadata": {},
     "output_type": "execute_result"
    }
   ],
   "source": [
    "listing_ext[[\"review_scores_value\",\"reviews_per_month\", \"booked_nights\"]].corr()"
   ]
  },
  {
   "cell_type": "code",
   "execution_count": 57,
   "metadata": {},
   "outputs": [],
   "source": [
    "#Parece que no tiene mucha correlación"
   ]
  },
  {
   "cell_type": "code",
   "execution_count": 58,
   "metadata": {},
   "outputs": [],
   "source": [
    "#Relación entre valoración y reviews per month"
   ]
  },
  {
   "cell_type": "code",
   "execution_count": 59,
   "metadata": {},
   "outputs": [
    {
     "data": {
      "text/plain": [
       "<AxesSubplot:xlabel='review_scores_value', ylabel='reviews_per_month'>"
      ]
     },
     "execution_count": 59,
     "metadata": {},
     "output_type": "execute_result"
    },
    {
     "data": {
      "image/png": "[encoded data removed]",
      "text/plain": [
       "<Figure size 640x480 with 1 Axes>"
      ]
     },
     "metadata": {},
     "output_type": "display_data"
    }
   ],
   "source": [
    "sns.scatterplot(data=listing_ext, x=\"review_scores_value\", y=\"reviews_per_month\")"
   ]
  },
  {
   "cell_type": "code",
   "execution_count": 60,
   "metadata": {},
   "outputs": [],
   "source": [
    "#No parece que tenga mucha"
   ]
  },
  {
   "cell_type": "code",
   "execution_count": 61,
   "metadata": {},
   "outputs": [
    {
     "data": {
      "text/plain": [
       "<AxesSubplot:xlabel='review_scores_value', ylabel='booked_nights'>"
      ]
     },
     "execution_count": 61,
     "metadata": {},
     "output_type": "execute_result"
    },
    {
     "data": {
      "image/png": "[encoded data removed]",
      "text/plain": [
       "<Figure size 640x480 with 1 Axes>"
      ]
     },
     "metadata": {},
     "output_type": "display_data"
    }
   ],
   "source": [
    "sns.scatterplot(data=listing_ext, x=\"review_scores_value\", y=\"booked_nights\")"
   ]
  },
  {
   "cell_type": "code",
   "execution_count": null,
   "metadata": {},
   "outputs": [],
   "source": []
  },
  {
   "cell_type": "code",
   "execution_count": null,
   "metadata": {
    "tags": []
   },
   "outputs": [],
   "source": []
  },
  {
   "cell_type": "code",
   "execution_count": null,
   "metadata": {},
   "outputs": [],
   "source": []
  },
  {
   "cell_type": "code",
   "execution_count": null,
   "metadata": {},
   "outputs": [],
   "source": []
  },
  {
   "cell_type": "code",
   "execution_count": null,
   "metadata": {},
   "outputs": [],
   "source": []
  },
  {
   "cell_type": "code",
   "execution_count": null,
   "metadata": {},
   "outputs": [],
   "source": []
  },
  {
   "cell_type": "code",
   "execution_count": null,
   "metadata": {},
   "outputs": [],
   "source": []
  },
  {
   "cell_type": "code",
   "execution_count": null,
   "metadata": {},
   "outputs": [],
   "source": []
  },
  {
   "cell_type": "code",
   "execution_count": null,
   "metadata": {},
   "outputs": [],
   "source": []
  },
  {
   "cell_type": "code",
   "execution_count": null,
   "metadata": {},
   "outputs": [],
   "source": []
  },
  {
   "cell_type": "code",
   "execution_count": null,
   "metadata": {},
   "outputs": [],
   "source": []
  },
  {
   "cell_type": "code",
   "execution_count": null,
   "metadata": {},
   "outputs": [],
   "source": []
  },
  {
   "cell_type": "code",
   "execution_count": null,
   "metadata": {},
   "outputs": [],
   "source": []
  },
  {
   "cell_type": "code",
   "execution_count": null,
   "metadata": {},
   "outputs": [],
   "source": []
  },
  {
   "cell_type": "code",
   "execution_count": null,
   "metadata": {},
   "outputs": [],
   "source": []
  },
  {
   "cell_type": "code",
   "execution_count": null,
   "metadata": {},
   "outputs": [],
   "source": []
  },
  {
   "cell_type": "code",
   "execution_count": null,
   "metadata": {},
   "outputs": [],
   "source": []
  },
  {
   "cell_type": "code",
   "execution_count": null,
   "metadata": {},
   "outputs": [],
   "source": []
  },
  {
   "cell_type": "code",
   "execution_count": null,
   "metadata": {},
   "outputs": [],
   "source": []
  },
  {
   "cell_type": "code",
   "execution_count": null,
   "metadata": {},
   "outputs": [],
   "source": []
  },
  {
   "cell_type": "code",
   "execution_count": null,
   "metadata": {},
   "outputs": [],
   "source": []
  },
  {
   "cell_type": "code",
   "execution_count": null,
   "metadata": {},
   "outputs": [],
   "source": []
  },
  {
   "cell_type": "code",
   "execution_count": null,
   "metadata": {},
   "outputs": [],
   "source": []
  },
  {
   "cell_type": "code",
   "execution_count": null,
   "metadata": {},
   "outputs": [],
   "source": []
  },
  {
   "cell_type": "code",
   "execution_count": null,
   "metadata": {},
   "outputs": [],
   "source": []
  },
  {
   "cell_type": "code",
   "execution_count": null,
   "metadata": {},
   "outputs": [],
   "source": []
  },
  {
   "cell_type": "code",
   "execution_count": null,
   "metadata": {},
   "outputs": [],
   "source": []
  },
  {
   "cell_type": "code",
   "execution_count": null,
   "metadata": {},
   "outputs": [],
   "source": []
  },
  {
   "cell_type": "code",
   "execution_count": null,
   "metadata": {},
   "outputs": [],
   "source": []
  },
  {
   "cell_type": "code",
   "execution_count": null,
   "metadata": {},
   "outputs": [],
   "source": []
  },
  {
   "cell_type": "code",
   "execution_count": null,
   "metadata": {},
   "outputs": [],
   "source": []
  },
  {
   "cell_type": "code",
   "execution_count": null,
   "metadata": {},
   "outputs": [],
   "source": []
  },
  {
   "cell_type": "code",
   "execution_count": null,
   "metadata": {},
   "outputs": [],
   "source": []
  },
  {
   "cell_type": "code",
   "execution_count": null,
   "metadata": {},
   "outputs": [],
   "source": []
  },
  {
   "cell_type": "code",
   "execution_count": null,
   "metadata": {},
   "outputs": [],
   "source": []
  },
  {
   "cell_type": "code",
   "execution_count": null,
   "metadata": {},
   "outputs": [],
   "source": []
  },
  {
   "cell_type": "code",
   "execution_count": null,
   "metadata": {},
   "outputs": [],
   "source": []
  },
  {
   "cell_type": "code",
   "execution_count": null,
   "metadata": {},
   "outputs": [],
   "source": []
  },
  {
   "cell_type": "code",
   "execution_count": null,
   "metadata": {},
   "outputs": [],
   "source": []
  },
  {
   "cell_type": "code",
   "execution_count": null,
   "metadata": {
    "id": "lKjH_Cv42vtG"
   },
   "outputs": [],
   "source": []
  },
  {
   "cell_type": "code",
   "execution_count": null,
   "metadata": {
    "id": "7-sE8IN12sV-"
   },
   "outputs": [],
   "source": []
  },
  {
   "cell_type": "code",
   "execution_count": null,
   "metadata": {
    "id": "qeoX95Oh04RT"
   },
   "outputs": [],
   "source": []
  },
  {
   "cell_type": "code",
   "execution_count": null,
   "metadata": {
    "id": "xpByZQZK0v29"
   },
   "outputs": [],
   "source": []
  },
  {
   "cell_type": "code",
   "execution_count": null,
   "metadata": {
    "id": "w_pOCakm0FlB"
   },
   "outputs": [],
   "source": []
  },
  {
   "cell_type": "code",
   "execution_count": null,
   "metadata": {
    "id": "l9PPRxdKzvQc"
   },
   "outputs": [],
   "source": []
  },
  {
   "cell_type": "code",
   "execution_count": null,
   "metadata": {
    "id": "QmVnrlq7zQ1-"
   },
   "outputs": [],
   "source": []
  },
  {
   "cell_type": "code",
   "execution_count": null,
   "metadata": {
    "id": "wRLTT54TzGCc"
   },
   "outputs": [],
   "source": []
  },
  {
   "cell_type": "code",
   "execution_count": null,
   "metadata": {
    "id": "lOlH-vIoy6IX"
   },
   "outputs": [],
   "source": []
  },
  {
   "cell_type": "code",
   "execution_count": null,
   "metadata": {
    "id": "7ULySOJZy19y"
   },
   "outputs": [],
   "source": []
  },
  {
   "cell_type": "code",
   "execution_count": null,
   "metadata": {
    "id": "zI6rrtTtyfiE"
   },
   "outputs": [],
   "source": []
  },
  {
   "cell_type": "code",
   "execution_count": null,
   "metadata": {
    "id": "5WG4FjBfybQP"
   },
   "outputs": [],
   "source": []
  },
  {
   "cell_type": "code",
   "execution_count": null,
   "metadata": {
    "id": "XSyi43W8yWOn"
   },
   "outputs": [],
   "source": []
  },
  {
   "cell_type": "code",
   "execution_count": null,
   "metadata": {
    "id": "Ln14cRx-yOaj"
   },
   "outputs": [],
   "source": []
  },
  {
   "cell_type": "code",
   "execution_count": null,
   "metadata": {
    "id": "KwMBjzgyx_du"
   },
   "outputs": [],
   "source": []
  },
  {
   "cell_type": "code",
   "execution_count": null,
   "metadata": {
    "id": "WvMRBnx1xkDL"
   },
   "outputs": [],
   "source": []
  },
  {
   "cell_type": "code",
   "execution_count": null,
   "metadata": {
    "id": "GNW5qrMMxhRb"
   },
   "outputs": [],
   "source": []
  },
  {
   "cell_type": "code",
   "execution_count": null,
   "metadata": {
    "id": "XQ7Hb7U8wSSm"
   },
   "outputs": [],
   "source": []
  },
  {
   "cell_type": "code",
   "execution_count": null,
   "metadata": {
    "id": "twyO5iuCt2BQ"
   },
   "outputs": [],
   "source": []
  },
  {
   "cell_type": "code",
   "execution_count": null,
   "metadata": {
    "id": "exUXoNnqtmw-"
   },
   "outputs": [],
   "source": []
  },
  {
   "cell_type": "code",
   "execution_count": null,
   "metadata": {
    "id": "3n4uBtB_tl42"
   },
   "outputs": [],
   "source": []
  },
  {
   "cell_type": "code",
   "execution_count": null,
   "metadata": {
    "id": "E3SYLAwOtkVA"
   },
   "outputs": [],
   "source": []
  },
  {
   "cell_type": "code",
   "execution_count": null,
   "metadata": {
    "id": "Wr8atHFRtiDg"
   },
   "outputs": [],
   "source": []
  },
  {
   "cell_type": "code",
   "execution_count": null,
   "metadata": {
    "id": "3P6I-KqitOAr"
   },
   "outputs": [],
   "source": []
  },
  {
   "cell_type": "code",
   "execution_count": null,
   "metadata": {
    "id": "ubfY3aowtF6B"
   },
   "outputs": [],
   "source": []
  },
  {
   "cell_type": "code",
   "execution_count": null,
   "metadata": {
    "id": "rkdbJJQztDdq"
   },
   "outputs": [],
   "source": []
  },
  {
   "cell_type": "code",
   "execution_count": null,
   "metadata": {
    "id": "Yr49mnRYtAPe"
   },
   "outputs": [],
   "source": []
  },
  {
   "cell_type": "code",
   "execution_count": null,
   "metadata": {
    "id": "v2YvtrfRp9eX"
   },
   "outputs": [],
   "source": []
  },
  {
   "cell_type": "code",
   "execution_count": null,
   "metadata": {
    "id": "MPMEQhXuprbq"
   },
   "outputs": [],
   "source": []
  },
  {
   "cell_type": "code",
   "execution_count": null,
   "metadata": {
    "id": "uRKUYl82ot85"
   },
   "outputs": [],
   "source": []
  },
  {
   "cell_type": "code",
   "execution_count": null,
   "metadata": {
    "id": "7r3udqBOohyB"
   },
   "outputs": [],
   "source": []
  },
  {
   "cell_type": "code",
   "execution_count": null,
   "metadata": {
    "id": "NFwpp1dzoQxC"
   },
   "outputs": [],
   "source": []
  },
  {
   "cell_type": "code",
   "execution_count": null,
   "metadata": {
    "id": "8eiP3ZDiZLEg"
   },
   "outputs": [],
   "source": []
  }
 ],
 "metadata": {
  "colab": {
   "provenance": []
  },
  "kernelspec": {
   "display_name": "Python 3.9.13 ('base')",
   "language": "python",
   "name": "python3"
  },
  "language_info": {
   "codemirror_mode": {
    "name": "ipython",
    "version": 3
   },
   "file_extension": ".py",
   "mimetype": "text/x-python",
   "name": "python",
   "nbconvert_exporter": "python",
   "pygments_lexer": "ipython3",
   "version": "3.9.13"
  },
  "vscode": {
   "interpreter": {
    "hash": "dfb1d0d5d45e308c1703e995971ca70df29b06cb3ef3c4914a8fa75bd8c261ed"
   }
  }
 },
 "nbformat": 4,
 "nbformat_minor": 4
}
